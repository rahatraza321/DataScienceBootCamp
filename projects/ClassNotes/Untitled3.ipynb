{
  "nbformat": 4,
  "nbformat_minor": 0,
  "metadata": {
    "colab": {
      "provenance": []
    },
    "kernelspec": {
      "name": "python3",
      "display_name": "Python 3"
    },
    "language_info": {
      "name": "python"
    }
  },
  "cells": [
    {
      "cell_type": "code",
      "execution_count": null,
      "metadata": {
        "id": "kvSpigZzAC91"
      },
      "outputs": [],
      "source": []
    },
    {
      "cell_type": "markdown",
      "source": [
        "**over loading, over riding, operator over loading, polymorphism, encaplsulation**"
      ],
      "metadata": {
        "id": "f_GQI-cEBCsf"
      }
    },
    {
      "cell_type": "code",
      "source": [
        "print(10 + 12)\n"
      ],
      "metadata": {
        "colab": {
          "base_uri": "https://localhost:8080/"
        },
        "id": "apCOgeBGBTme",
        "outputId": "b81a5bbd-c1b3-44e5-8a22-716ef5cec826"
      },
      "execution_count": null,
      "outputs": [
        {
          "output_type": "stream",
          "name": "stdout",
          "text": [
            "22\n"
          ]
        }
      ]
    },
    {
      "cell_type": "code",
      "source": [
        "print(3.1415 + 3.1415) #addition of two float values"
      ],
      "metadata": {
        "colab": {
          "base_uri": "https://localhost:8080/"
        },
        "id": "ckAbQXc1CV8f",
        "outputId": "7090732f-c162-4c1e-e8f8-a9d594f698f3"
      },
      "execution_count": null,
      "outputs": [
        {
          "output_type": "stream",
          "name": "stdout",
          "text": [
            "6.283\n"
          ]
        }
      ]
    },
    {
      "cell_type": "code",
      "source": [
        "print('python + programming') #concanating two str values"
      ],
      "metadata": {
        "colab": {
          "base_uri": "https://localhost:8080/"
        },
        "id": "0qW3IAf6ChV-",
        "outputId": "2bb749ba-35b9-4726-9fab-cd0ce2b3681c"
      },
      "execution_count": null,
      "outputs": [
        {
          "output_type": "stream",
          "name": "stdout",
          "text": [
            "python + programming\n"
          ]
        }
      ]
    },
    {
      "cell_type": "code",
      "source": [
        "print([12,23,34,45,] + [56, 67,78,89,90]) #performing same function with different parameters (polymorphism)-multi-forms"
      ],
      "metadata": {
        "colab": {
          "base_uri": "https://localhost:8080/"
        },
        "id": "vGcr-y7cCpwO",
        "outputId": "a4d34d89-33cf-42ca-d39f-d9656a57528b"
      },
      "execution_count": null,
      "outputs": [
        {
          "output_type": "stream",
          "name": "stdout",
          "text": [
            "[12, 23, 34, 45, 56, 67, 78, 89, 90]\n"
          ]
        }
      ]
    },
    {
      "cell_type": "code",
      "source": [
        "l = 'python programming'\n",
        "print(len(l))\n",
        "\n",
        "l = [12, 23, 34, 45, 56, 67, 78, 89, 90]\n",
        "\n",
        "print(len(l))\n",
        "\n",
        "l = (12, 23, 34, 45, 56, 67, 78, 89, 90)\n",
        "print(l)\n",
        "\n",
        "l = {'a': 'apple',\n",
        "     'b': 'banana',\n",
        "     'c': 'cherry'\n",
        "     }\n",
        "print(l)"
      ],
      "metadata": {
        "colab": {
          "base_uri": "https://localhost:8080/"
        },
        "id": "vJ43dR6zDddf",
        "outputId": "2f307f45-817e-4178-d0bb-c44947fae95e"
      },
      "execution_count": null,
      "outputs": [
        {
          "output_type": "stream",
          "name": "stdout",
          "text": [
            "18\n",
            "9\n",
            "(12, 23, 34, 45, 56, 67, 78, 89, 90)\n",
            "{'a': 'apple', 'b': 'banana', 'c': 'cherry'}\n"
          ]
        }
      ]
    },
    {
      "cell_type": "code",
      "source": [
        "class person: #parent class\n",
        "  def __init__(selof, fanme, mnane, lname):\n",
        "    pass\n",
        "  def print_details(self):\n",
        "    print(self.fname, self.mname, self.lname)\n",
        "\n",
        "class student(person): #child class\n",
        "  def __init__(selof, fanme, mnane, lname):\n",
        "    pass\n",
        "  def print_details(self):\n",
        "    print(self.fname, self.mname, self.lname)\n"
      ],
      "metadata": {
        "id": "nI8GIM3nEFTG"
      },
      "execution_count": null,
      "outputs": []
    },
    {
      "cell_type": "code",
      "source": [
        "class Car:\n",
        "  def __init__(self, brand, model):\n",
        "    self.brand = brand\n",
        "    self.model = model\n",
        "\n",
        "  def move(self):\n",
        "    print(\"Drive!\")\n",
        "\n",
        "class Boat:\n",
        "  def __init__(self, brand, model):\n",
        "    self.brand = brand\n",
        "    self.model = model\n",
        "\n",
        "  def move(self):\n",
        "    print(\"Sail!\")\n",
        "\n",
        "class Plane:\n",
        "  def __init__(self, brand, model):\n",
        "    self.brand = brand\n",
        "    self.model = model\n",
        "\n",
        "  def move(self):\n",
        "    print(\"Fly!\")\n",
        "\n",
        "car1 = Car(\"Ford\", \"Mustang\")       #Create a Car class\n",
        "boat1 = Boat(\"Ibiza\", \"Touring 20\") #Create a Boat class\n",
        "plane1 = Plane(\"Boeing\", \"747\")     #Create a Plane class\n",
        "\n",
        "for x in (car1, boat1, plane1):\n",
        "  x.move()"
      ],
      "metadata": {
        "id": "2cgdnTX7FlbW",
        "colab": {
          "base_uri": "https://localhost:8080/"
        },
        "outputId": "36e97a5c-c13a-4dad-d1a1-d5b6e640189d"
      },
      "execution_count": null,
      "outputs": [
        {
          "output_type": "stream",
          "name": "stdout",
          "text": [
            "Drive!\n",
            "Sail!\n",
            "Fly!\n"
          ]
        }
      ]
    },
    {
      "cell_type": "markdown",
      "source": [
        "**Explaing all so possible for interview**"
      ],
      "metadata": {
        "id": "Sd9yh3ccOObs"
      }
    },
    {
      "cell_type": "code",
      "source": [
        "class vehicle:\n",
        "  def __init__(self, brand, model):\n",
        "    self.brand = brand\n",
        "    self.model = model\n",
        "\n",
        "  def move(self):\n",
        "    print('move!!')\n",
        "\n",
        "class Car(vehicle):\n",
        "  def move(self):\n",
        "    print(\"Drive!\")\n",
        "\n",
        "class Boat(vehicle):\n",
        "  def move(self):\n",
        "    print(\"Sail!\")\n",
        "\n",
        "class Plane(vehicle):\n",
        "  def move(self):\n",
        "    print(\"Fly!\")\n",
        "\n",
        "car1 = Car(\"Ford\", \"Mustang\")       #Create a Car class\n",
        "boat1 = Boat(\"Ibiza\", \"Touring 20\") #Create a Boat class\n",
        "plane1 = Plane(\"Boeing\", \"747\")     #Create a Plane class\n",
        "\n",
        "for i in (car1,boat1,plane1):\n",
        "  print(i.brand)      #is over riding\n",
        "  print(i.model)\n",
        "  i.move()           #is describing polymorphism"
      ],
      "metadata": {
        "colab": {
          "base_uri": "https://localhost:8080/"
        },
        "id": "aCclGif5IU7F",
        "outputId": "bb2b8493-943c-424f-a75a-15fd4c5056af"
      },
      "execution_count": null,
      "outputs": [
        {
          "output_type": "stream",
          "name": "stdout",
          "text": [
            "Ford \n",
            "Mustang\n",
            "Drive!\n",
            "Ibiza\n",
            "Touring 20\n",
            "Sail!\n",
            "Boeing\n",
            "747\n",
            "Fly!\n"
          ]
        }
      ]
    },
    {
      "cell_type": "code",
      "source": [
        "\n",
        "class morganandmorgan: #parent classs\n",
        "  def __init__(self,department,position):\n",
        "    self.department = department                      #parameters\n",
        "    self.position = position\n",
        "\n",
        "  def company(self):\n",
        "    print('Morgan & Morgan')\n",
        "\n",
        "class finance(morganandmorgan):  #child class and inherit from parent class\n",
        "  def company(self):\n",
        "   print(\"congratulaton!for you completion of project on bonus distributioin.\")\n",
        "   print('********************')\n",
        "\n",
        "class position(morganandmorgan):\n",
        "  def company(self):\n",
        "    print(\"Congratulation you got promoted.\")\n",
        "    print('*************************')\n",
        "\n",
        "finance1 = finance('Raza' , 'khan')    #object for child class\n",
        "position1 = position('senior', 'analyst')\n",
        "\n",
        "for i in (finance1,position1): #inheriting func from parent class\n",
        "  print(i.department)\n",
        "  print(i.position)\n",
        "  i.company()\n",
        "\n",
        "\n",
        "\n"
      ],
      "metadata": {
        "id": "7lFNGk_zPNTl",
        "colab": {
          "base_uri": "https://localhost:8080/"
        },
        "outputId": "d37df97d-c0bb-4a6b-aa3c-9b0ab9319a36"
      },
      "execution_count": null,
      "outputs": [
        {
          "output_type": "stream",
          "name": "stdout",
          "text": [
            "Raza\n",
            "khan\n",
            "congratulaton!for you completion of project on bonus distributioin.\n",
            "********************\n",
            "senior\n",
            "analyst\n",
            "Congratulation you got promoted.\n",
            "*************************\n"
          ]
        }
      ]
    },
    {
      "cell_type": "markdown",
      "source": [
        "***2nd session**** **bold text**"
      ],
      "metadata": {
        "id": "j_Y19pRGgh4N"
      }
    },
    {
      "cell_type": "code",
      "source": [
        "a=list(('apple','banana'))\n",
        "a"
      ],
      "metadata": {
        "id": "fmt2qM8xgntM",
        "colab": {
          "base_uri": "https://localhost:8080/"
        },
        "outputId": "62b2715d-589f-4115-d6eb-74504e7247c7"
      },
      "execution_count": null,
      "outputs": [
        {
          "output_type": "execute_result",
          "data": {
            "text/plain": [
              "['apple', 'banana']"
            ]
          },
          "metadata": {},
          "execution_count": 28
        }
      ]
    },
    {
      "cell_type": "code",
      "source": [
        "def main():\n",
        "    print(\"Num of rows:\")\n",
        "    row = int(input())\n",
        "    print(\"Num of Cols:\")\n",
        "    columns = int(input())\n",
        "    print(\"Out:\\n\")\n",
        "\n",
        "    for i in range(row): # iterate in rows\n",
        "        print('x'*columns) # print 'x' columns times\n",
        "\n",
        "if __name__ == '__main__':\n",
        "    main()"
      ],
      "metadata": {
        "colab": {
          "base_uri": "https://localhost:8080/"
        },
        "id": "0eF6p9Qmuqln",
        "outputId": "d76c0187-311c-4474-baf1-115cbdb8ec26"
      },
      "execution_count": null,
      "outputs": [
        {
          "output_type": "stream",
          "name": "stdout",
          "text": [
            "Num of rows:\n",
            "3\n",
            "Num of Cols:\n",
            "3\n",
            "Out:\n",
            "\n",
            "xxx\n",
            "xxx\n",
            "xxx\n"
          ]
        }
      ]
    },
    {
      "cell_type": "code",
      "source": [
        "def display_board(board_list):\n",
        "    print(\" {} | {} | {} \".format(board_list[0],board_list[1],board_list[2]))\n",
        "    print(\"-----------\")\n",
        "    print(\" {} | {} | {} \".format(board_list[3],board_list[4],board_list[5]))\n",
        "    print(\"-----------\")\n",
        "    print(\" {} | {} | {} \".format(board_list[6],board_list[7],board_list[8]))\n",
        "\n",
        "available = [num for num in range(1,10)]\n",
        "display_board(available)\n",
        "\n",
        "position_to_replace=int(input(\"Please choose between 1 and 9 :- \"))\n",
        "position_to_replace=available.index(position_to_replace)\n",
        "while True:\n",
        "  if position_to_replace<0 or position_to_replace>8:\n",
        "    print(\"Invalid Input\")\n",
        "    position_to_replace=int(input(\"Please choose between 1 and 9 :- \"))\n",
        "  else:\n",
        "    available[position_to_replace]=\"X\"\n",
        "    print(available)\n",
        "    break\n",
        "\n",
        "display_board(available)"
      ],
      "metadata": {
        "colab": {
          "base_uri": "https://localhost:8080/"
        },
        "id": "BmBSTBP343pT",
        "outputId": "c86ffa2a-bd05-4a5b-fd07-109a09b9d4bf"
      },
      "execution_count": 40,
      "outputs": [
        {
          "output_type": "stream",
          "name": "stdout",
          "text": [
            " 1 | 2 | 3 \n",
            "-----------\n",
            " 4 | 5 | 6 \n",
            "-----------\n",
            " 7 | 8 | 9 \n",
            "Please choose between 1 and 9 :- 8\n",
            "[1, 2, 3, 4, 5, 6, 7, 'X', 9]\n",
            " 1 | 2 | 3 \n",
            "-----------\n",
            " 4 | 5 | 6 \n",
            "-----------\n",
            " 7 | X | 9 \n"
          ]
        }
      ]
    }
  ]
}