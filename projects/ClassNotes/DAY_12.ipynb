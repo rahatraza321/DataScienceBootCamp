{
  "nbformat": 4,
  "nbformat_minor": 0,
  "metadata": {
    "colab": {
      "provenance": []
    },
    "kernelspec": {
      "name": "python3",
      "display_name": "Python 3"
    },
    "language_info": {
      "name": "python"
    }
  },
  "cells": [
    {
      "cell_type": "code",
      "execution_count": 1,
      "metadata": {
        "id": "5DxNsfNHtSAO"
      },
      "outputs": [],
      "source": [
        "class person:\n",
        "  def __init__(self,fname,lname):\n",
        "    self.firstname = fname\n",
        "    self.lastname = lname\n",
        "\n",
        "  def printname(self):\n",
        "    print(self.firstname, ' ', self.lastname)"
      ]
    },
    {
      "cell_type": "code",
      "source": [
        "obj1 = person('Raza', 'Khan')"
      ],
      "metadata": {
        "id": "1bVNU1Y6tsyI"
      },
      "execution_count": 2,
      "outputs": []
    },
    {
      "cell_type": "code",
      "source": [
        "obj1.printname()"
      ],
      "metadata": {
        "colab": {
          "base_uri": "https://localhost:8080/"
        },
        "id": "HO133dJttzLf",
        "outputId": "84692d4f-7fcb-4a81-e81c-dfc05c7b9cbe"
      },
      "execution_count": 3,
      "outputs": [
        {
          "output_type": "stream",
          "name": "stdout",
          "text": [
            "Raza   Khan\n"
          ]
        }
      ]
    },
    {
      "cell_type": "code",
      "source": [
        "#child class\n",
        "class childclass(person):\n",
        "  pass"
      ],
      "metadata": {
        "id": "6bJcMmTnt4or"
      },
      "execution_count": 4,
      "outputs": []
    },
    {
      "cell_type": "code",
      "source": [
        "obj2 = childclass('Raza', 'Khan')"
      ],
      "metadata": {
        "id": "JRHHLaMNuFfA"
      },
      "execution_count": 5,
      "outputs": []
    },
    {
      "cell_type": "code",
      "source": [
        "obj2.printname()"
      ],
      "metadata": {
        "colab": {
          "base_uri": "https://localhost:8080/"
        },
        "id": "btemN2oOuQUe",
        "outputId": "b60eced1-9aab-411f-ed0f-81c963170eb4"
      },
      "execution_count": 6,
      "outputs": [
        {
          "output_type": "stream",
          "name": "stdout",
          "text": [
            "Raza   Khan\n"
          ]
        }
      ]
    },
    {
      "cell_type": "code",
      "source": [
        "#small set of code for child class\n",
        "class person:\n",
        "  def __init__(self,fname,lname):\n",
        "    self.firstname = fname\n",
        "    self.lastname = lname\n",
        "\n",
        "  def printname(self):\n",
        "    print(self.firstname, ' ', self.lastname)"
      ],
      "metadata": {
        "id": "O2wnXSaIwsO5"
      },
      "execution_count": 7,
      "outputs": []
    },
    {
      "cell_type": "code",
      "source": [
        "class childclass(person):\n",
        "  def __init__(self, fname, lname):\n",
        "    self.firstname =fname\n",
        "    self.lastname =lname\n",
        "\n",
        "  def printname(self):\n",
        "    print('class childclass(person):,', self.firstname, ' ', self.lastname)\n"
      ],
      "metadata": {
        "id": "Jg64-MaDwx_t"
      },
      "execution_count": 8,
      "outputs": []
    },
    {
      "cell_type": "code",
      "source": [
        "obj1 = childclass('raza', 'khan')"
      ],
      "metadata": {
        "id": "Y0BQVlpSxY0D"
      },
      "execution_count": 9,
      "outputs": []
    },
    {
      "cell_type": "code",
      "source": [
        "obj1.printname()"
      ],
      "metadata": {
        "colab": {
          "base_uri": "https://localhost:8080/"
        },
        "id": "iYWKZWkixeRD",
        "outputId": "1cc44099-e984-4656-8ce7-f48c842f528d"
      },
      "execution_count": 10,
      "outputs": [
        {
          "output_type": "stream",
          "name": "stdout",
          "text": [
            "class childclass(person):, raza   khan\n"
          ]
        }
      ]
    },
    {
      "cell_type": "markdown",
      "source": [
        "**Pratice**"
      ],
      "metadata": {
        "id": "AGLqZHbm8uVW"
      }
    },
    {
      "cell_type": "code",
      "source": [
        "class taekwondo:\n",
        "  def __init__(self,color,belt):\n",
        "    self.color = color\n",
        "    self.belt = belt\n",
        "\n",
        "  def printname(self):\n",
        "    print(self.color, ' ', self.belt)"
      ],
      "metadata": {
        "id": "5aeH4NVS77ld"
      },
      "execution_count": 11,
      "outputs": []
    },
    {
      "cell_type": "code",
      "source": [
        "class childclass(taekwondo):\n",
        "  def __init__(self, color, belt):\n",
        "    self.color =color\n",
        "    self.belt =belt\n",
        "\n",
        "  def printname(self):\n",
        "    print('class childclass(taekwondo):,', self.color, ' ', self.belt)"
      ],
      "metadata": {
        "id": "TvzHVglY8OeB"
      },
      "execution_count": 12,
      "outputs": []
    },
    {
      "cell_type": "code",
      "source": [
        "obj1 = childclass('blackbelt', '1st don')"
      ],
      "metadata": {
        "id": "VF4wQo0t8eJD"
      },
      "execution_count": 13,
      "outputs": []
    },
    {
      "cell_type": "code",
      "source": [
        "obj1.printname()"
      ],
      "metadata": {
        "colab": {
          "base_uri": "https://localhost:8080/"
        },
        "id": "zM9F0s_z8o2W",
        "outputId": "77986e84-7643-4dd6-878c-93deb4a2393e"
      },
      "execution_count": 14,
      "outputs": [
        {
          "output_type": "stream",
          "name": "stdout",
          "text": [
            "class childclass(taekwondo):, black   1st don\n"
          ]
        }
      ]
    },
    {
      "cell_type": "code",
      "source": [
        "#2. call function from parent class using (super) function\n",
        "class person:\n",
        "  def __init__(self,fname,lname):\n",
        "    self.firstname = fname\n",
        "    self.lastname = lname\n",
        "\n",
        "  def printname(self):\n",
        "    print('class person:', self.firstname, self.lastname)"
      ],
      "metadata": {
        "id": "Nm2zLd3I-o_k"
      },
      "execution_count": 22,
      "outputs": []
    },
    {
      "cell_type": "code",
      "source": [
        "class student(person):\n",
        "  def __init__(self, fname, lname):\n",
        "    super().__init__(fname,lname)"
      ],
      "metadata": {
        "id": "8aSazBC9-uV_"
      },
      "execution_count": 23,
      "outputs": []
    },
    {
      "cell_type": "code",
      "source": [
        "obj1 = student('Raza', 'Khan')"
      ],
      "metadata": {
        "id": "k6lsLEkt_QZ2"
      },
      "execution_count": 24,
      "outputs": []
    },
    {
      "cell_type": "code",
      "source": [
        "obj1.printname()"
      ],
      "metadata": {
        "colab": {
          "base_uri": "https://localhost:8080/"
        },
        "id": "2uW_ALJy_ZrL",
        "outputId": "e236e663-4825-42b8-c366-38b47cec5fb7"
      },
      "execution_count": 25,
      "outputs": [
        {
          "output_type": "stream",
          "name": "stdout",
          "text": [
            "class person: Raza Khan\n"
          ]
        }
      ]
    },
    {
      "cell_type": "code",
      "source": [
        "#3.\n",
        "class car:\n",
        "  def __init__(self, name, model):\n",
        "    self.name = name\n",
        "    self.model = model\n",
        "\n",
        "  def print_details(self):\n",
        "    print('class car:', self.name, self.model)"
      ],
      "metadata": {
        "id": "Ywe3muVnAfd4"
      },
      "execution_count": 37,
      "outputs": []
    },
    {
      "cell_type": "code",
      "source": [
        "class bmw(car):\n",
        "  def __init__(self,name,model):\n",
        "    super().__init__(name, model)"
      ],
      "metadata": {
        "id": "KkPSESI8A5t5"
      },
      "execution_count": 38,
      "outputs": []
    },
    {
      "cell_type": "code",
      "source": [
        "obj1 = bmw('bmwx8', 999)"
      ],
      "metadata": {
        "id": "eGKHmL37BNQw"
      },
      "execution_count": 39,
      "outputs": []
    },
    {
      "cell_type": "code",
      "source": [
        "obj1.print_details()"
      ],
      "metadata": {
        "colab": {
          "base_uri": "https://localhost:8080/"
        },
        "id": "QOX5esrqBmzz",
        "outputId": "41dc791a-6480-474b-f58c-966bd86ad8e9"
      },
      "execution_count": 41,
      "outputs": [
        {
          "output_type": "stream",
          "name": "stdout",
          "text": [
            "class car: bmwx8 999\n"
          ]
        }
      ]
    },
    {
      "cell_type": "code",
      "source": [
        "#4.\n",
        "class company:\n",
        "  def __init__(self, name, location, contact):\n",
        "    self.name = name\n",
        "    self.location = location\n",
        "    self.contact = contact\n",
        "\n",
        "  def print_details(self):\n",
        "    print('company:-', self.name, self.location, self.contact)"
      ],
      "metadata": {
        "id": "ox0yTLwyGAxj"
      },
      "execution_count": 42,
      "outputs": []
    },
    {
      "cell_type": "code",
      "source": [],
      "metadata": {
        "id": "3TW1iYmUGfOM"
      },
      "execution_count": null,
      "outputs": []
    },
    {
      "cell_type": "markdown",
      "source": [
        "**2ndclass**"
      ],
      "metadata": {
        "id": "Jjx2HFSYLCFW"
      }
    },
    {
      "cell_type": "code",
      "source": [
        "#1.Write a program to print twin primes less than 1000. If two consecutive odd numbers are both prime then they are known as twin primes\n",
        "#first part is we have to iterate till 1000\n",
        "#2nd partcheck nly for odd numbers\n",
        "#3rd both the numbers should be prime\n",
        "\n",
        "n=(input(\"Enter the Max Range :-\"))\n",
        "for k in range(3,n,2):\n",
        "  print(k)"
      ],
      "metadata": {
        "colab": {
          "base_uri": "https://localhost:8080/",
          "height": 245
        },
        "id": "yDb39cTBLb1b",
        "outputId": "3d4d510d-4c00-4bbf-ef00-05b0f989a839"
      },
      "execution_count": 46,
      "outputs": [
        {
          "name": "stdout",
          "output_type": "stream",
          "text": [
            "Enter the Max Range :-`10\n"
          ]
        },
        {
          "output_type": "error",
          "ename": "TypeError",
          "evalue": "ignored",
          "traceback": [
            "\u001b[0;31m---------------------------------------------------------------------------\u001b[0m",
            "\u001b[0;31mTypeError\u001b[0m                                 Traceback (most recent call last)",
            "\u001b[0;32m<ipython-input-46-ac0e9be11724>\u001b[0m in \u001b[0;36m<cell line: 7>\u001b[0;34m()\u001b[0m\n\u001b[1;32m      5\u001b[0m \u001b[0;34m\u001b[0m\u001b[0m\n\u001b[1;32m      6\u001b[0m \u001b[0mn\u001b[0m\u001b[0;34m=\u001b[0m\u001b[0;34m(\u001b[0m\u001b[0minput\u001b[0m\u001b[0;34m(\u001b[0m\u001b[0;34m\"Enter the Max Range :-\"\u001b[0m\u001b[0;34m)\u001b[0m\u001b[0;34m)\u001b[0m\u001b[0;34m\u001b[0m\u001b[0;34m\u001b[0m\u001b[0m\n\u001b[0;32m----> 7\u001b[0;31m \u001b[0;32mfor\u001b[0m \u001b[0mk\u001b[0m \u001b[0;32min\u001b[0m \u001b[0mrange\u001b[0m\u001b[0;34m(\u001b[0m\u001b[0;36m3\u001b[0m\u001b[0;34m,\u001b[0m\u001b[0mn\u001b[0m\u001b[0;34m,\u001b[0m\u001b[0;36m2\u001b[0m\u001b[0;34m)\u001b[0m\u001b[0;34m:\u001b[0m\u001b[0;34m\u001b[0m\u001b[0;34m\u001b[0m\u001b[0m\n\u001b[0m\u001b[1;32m      8\u001b[0m   \u001b[0mprint\u001b[0m\u001b[0;34m(\u001b[0m\u001b[0mk\u001b[0m\u001b[0;34m)\u001b[0m\u001b[0;34m\u001b[0m\u001b[0;34m\u001b[0m\u001b[0m\n",
            "\u001b[0;31mTypeError\u001b[0m: 'str' object cannot be interpreted as an integer"
          ]
        }
      ]
    },
    {
      "cell_type": "code",
      "source": [
        "n=(input(\"Enter the Max Range :-\"))\n",
        "\n",
        "def check_prime_number(num):\n",
        "  #77check_prime=True\n",
        "  for i in range(2,num):\n",
        "    if num%i==0:\n",
        "      return False\n",
        "  return True\n",
        "\n",
        "  def print_prime_pairs(n):\n",
        "    for k in range(3,n,2):\n",
        "      print(k)"
      ],
      "metadata": {
        "colab": {
          "base_uri": "https://localhost:8080/"
        },
        "id": "SaZPJ5HzNY-K",
        "outputId": "b8854447-852c-4402-be7c-10a0da43e610"
      },
      "execution_count": 48,
      "outputs": [
        {
          "name": "stdout",
          "output_type": "stream",
          "text": [
            "Enter the Max Range :-1000\n"
          ]
        }
      ]
    },
    {
      "cell_type": "code",
      "source": [
        "#3.Two different numbers are called amicable numbers if the sum of the proper divisors of each is equal to the other number. For example 220 and 284 are amicable numbers.\n"
      ],
      "metadata": {
        "id": "RhzBA_B6XX1C"
      },
      "execution_count": null,
      "outputs": []
    }
  ]
}