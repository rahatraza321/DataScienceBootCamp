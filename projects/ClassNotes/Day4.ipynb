{
  "nbformat": 4,
  "nbformat_minor": 0,
  "metadata": {
    "colab": {
      "provenance": []
    },
    "kernelspec": {
      "name": "python3",
      "display_name": "Python 3"
    },
    "language_info": {
      "name": "python"
    }
  },
  "cells": [
    {
      "cell_type": "code",
      "execution_count": null,
      "metadata": {
        "colab": {
          "base_uri": "https://localhost:8080/"
        },
        "id": "WBk-fcQj5w9j",
        "outputId": "7b264753-3f16-4232-e161-b2330f033495"
      },
      "outputs": [
        {
          "output_type": "stream",
          "name": "stdout",
          "text": [
            "\n"
          ]
        }
      ],
      "source": [
        "\n",
        "\n",
        "str2 = 'Venkatanarasimharajuvaripeta'\n",
        "print(str2[-1:-8:-1][-9:-21:-1][-22:-28:-1])\n"
      ]
    },
    {
      "cell_type": "code",
      "source": [
        "str3 = 'Venkatanarasimharajuvaripeta'\n",
        "str3[6::-1], str3[15:6:-1], str3[27:15:-1]\n",
        "\n"
      ],
      "metadata": {
        "colab": {
          "base_uri": "https://localhost:8080/"
        },
        "id": "_OwDFd1QCwyH",
        "outputId": "c0dfe6b8-cb9e-4301-bcd0-59f5b05ebba4"
      },
      "execution_count": null,
      "outputs": [
        {
          "output_type": "execute_result",
          "data": {
            "text/plain": [
              "('atakneV', '', 'atepiravujar')"
            ]
          },
          "metadata": {},
          "execution_count": 27
        }
      ]
    },
    {
      "cell_type": "code",
      "source": [
        "str4 = 'peppa prefer python programming'\n",
        "str4[-1:-12:-1], str4[-13:-19:-1], str4[-20:-26:-1], str4[-27:-32:-1]\n",
        "#str4[5::-1], str4[12:5:-1], str4[19:12:-1], str4[31:19:-1]"
      ],
      "metadata": {
        "colab": {
          "base_uri": "https://localhost:8080/"
        },
        "id": "wPzBaw7-Fu_f",
        "outputId": "5ca7381d-a04e-4efd-8265-a68c5b437d62"
      },
      "execution_count": null,
      "outputs": [
        {
          "output_type": "execute_result",
          "data": {
            "text/plain": [
              "('gnimmargorp', 'nohtyp', 'referp', 'appep')"
            ]
          },
          "metadata": {},
          "execution_count": 38
        }
      ]
    },
    {
      "cell_type": "code",
      "source": [
        "\n",
        "#negative indexing and positive slicing\n",
        "str3 = 'Venkatanarasimharajuvaripeta'\n",
        "str3[-28:-21:1], str3[-21:-12:1], str3[-12:-1:1]\n",
        "#str3[-12::]\n"
      ],
      "metadata": {
        "colab": {
          "base_uri": "https://localhost:8080/"
        },
        "id": "yAJCPE9yJZHz",
        "outputId": "cda5634c-2468-4086-f512-d7bc4bfecf31"
      },
      "execution_count": null,
      "outputs": [
        {
          "output_type": "execute_result",
          "data": {
            "text/plain": [
              "('Venkata', 'narasimha', 'rajuvaripet')"
            ]
          },
          "metadata": {},
          "execution_count": 49
        }
      ]
    },
    {
      "cell_type": "code",
      "source": [
        "lst1 = ['apple', 'banana', 'cherries', 'dates', 'eggfruit', 'fig', 'grapes', 'honeyfruit', 'icefruit']\n",
        "print(lst1)\n",
        "print(type(lst1))\n"
      ],
      "metadata": {
        "colab": {
          "base_uri": "https://localhost:8080/"
        },
        "id": "yBVMFnUQNdKe",
        "outputId": "74df97fa-0bbd-40b6-8dc9-1ef0cd053808"
      },
      "execution_count": null,
      "outputs": [
        {
          "output_type": "stream",
          "name": "stdout",
          "text": [
            "['apple', 'banana', 'cherries', 'dates', 'eggfruit', 'fig', 'grapes', 'honeyfruit', 'icefruit']\n",
            "<class 'list'>\n"
          ]
        }
      ]
    },
    {
      "cell_type": "code",
      "source": [
        "lst[0], lst[1], lst[3], lst[4], lst[5], lst[6], lst[7]"
      ],
      "metadata": {
        "id": "Pib9ybKON_Va"
      },
      "execution_count": null,
      "outputs": []
    },
    {
      "cell_type": "code",
      "source": [
        "#Display entire vaalue\n",
        "lst1[::]\n",
        "lst1[0::]\n",
        "lst1[:len(lst1):]\n",
        "lst1[::1]"
      ],
      "metadata": {
        "colab": {
          "base_uri": "https://localhost:8080/"
        },
        "id": "zvPKHqr-OPlI",
        "outputId": "09757c45-0608-4473-8fe0-7c02b168a4ad"
      },
      "execution_count": null,
      "outputs": [
        {
          "output_type": "execute_result",
          "data": {
            "text/plain": [
              "['apple',\n",
              " 'banana',\n",
              " 'cherries',\n",
              " 'dates',\n",
              " 'eggfruit',\n",
              " 'fig',\n",
              " 'grapes',\n",
              " 'honeyfruit',\n",
              " 'icefruit']"
            ]
          },
          "metadata": {},
          "execution_count": 53
        }
      ]
    },
    {
      "cell_type": "code",
      "source": [
        "#positive indexing positive slicing\n",
        "lst1[0: len(lst1): 1]\n",
        "lst1[::-1]"
      ],
      "metadata": {
        "colab": {
          "base_uri": "https://localhost:8080/"
        },
        "id": "A0P_T6ATOiil",
        "outputId": "fbcd981c-9898-4e29-c826-5dba6988f20d"
      },
      "execution_count": null,
      "outputs": [
        {
          "output_type": "execute_result",
          "data": {
            "text/plain": [
              "['icefruit',\n",
              " 'honeyfruit',\n",
              " 'grapes',\n",
              " 'fig',\n",
              " 'eggfruit',\n",
              " 'dates',\n",
              " 'cherries',\n",
              " 'banana',\n",
              " 'apple']"
            ]
          },
          "metadata": {},
          "execution_count": 55
        }
      ]
    },
    {
      "cell_type": "code",
      "source": [
        "lst1[-1:-9:-1]\n",
        "#lst1[-1::-1]"
      ],
      "metadata": {
        "colab": {
          "base_uri": "https://localhost:8080/"
        },
        "id": "4FiJDxE5O1bW",
        "outputId": "0fd725f5-e31d-4457-9d31-567ccd52e559"
      },
      "execution_count": null,
      "outputs": [
        {
          "output_type": "execute_result",
          "data": {
            "text/plain": [
              "['icefruit',\n",
              " 'honeyfruit',\n",
              " 'grapes',\n",
              " 'fig',\n",
              " 'eggfruit',\n",
              " 'dates',\n",
              " 'cherries',\n",
              " 'banana',\n",
              " 'apple']"
            ]
          },
          "metadata": {},
          "execution_count": 57
        }
      ]
    },
    {
      "cell_type": "code",
      "source": [
        "#positive index negative slicing\n",
        "lst1[9::-1]"
      ],
      "metadata": {
        "colab": {
          "base_uri": "https://localhost:8080/"
        },
        "id": "WMAtbkPzPEhL",
        "outputId": "086bfa64-0aaf-4eaf-c082-39ed45312a2f"
      },
      "execution_count": null,
      "outputs": [
        {
          "output_type": "execute_result",
          "data": {
            "text/plain": [
              "['icefruit',\n",
              " 'honeyfruit',\n",
              " 'grapes',\n",
              " 'fig',\n",
              " 'eggfruit',\n",
              " 'dates',\n",
              " 'cherries',\n",
              " 'banana',\n",
              " 'apple']"
            ]
          },
          "metadata": {},
          "execution_count": 58
        }
      ]
    },
    {
      "cell_type": "code",
      "source": [
        "#negative indexing positive slicing\n",
        "lst1[-9::1]"
      ],
      "metadata": {
        "colab": {
          "base_uri": "https://localhost:8080/"
        },
        "id": "q8383Y9OPOEI",
        "outputId": "f75899a1-bc5f-49d4-97ea-6124f8c640b2"
      },
      "execution_count": null,
      "outputs": [
        {
          "output_type": "execute_result",
          "data": {
            "text/plain": [
              "['apple',\n",
              " 'banana',\n",
              " 'cherries',\n",
              " 'dates',\n",
              " 'eggfruit',\n",
              " 'fig',\n",
              " 'grapes',\n",
              " 'honeyfruit',\n",
              " 'icefruit']"
            ]
          },
          "metadata": {},
          "execution_count": 60
        }
      ]
    },
    {
      "cell_type": "code",
      "source": [
        "lst3 = ['phone', 'laptop', 'speaker', 'wallet', 'cup', 'mouse', 'charger', 'house', 'car']\n",
        "print(lst3)\n",
        "print(type(lst3))"
      ],
      "metadata": {
        "colab": {
          "base_uri": "https://localhost:8080/"
        },
        "id": "VhtNtDB7P-dS",
        "outputId": "58af29c6-6c9b-4b01-bd40-f4e794d6abf0"
      },
      "execution_count": null,
      "outputs": [
        {
          "output_type": "stream",
          "name": "stdout",
          "text": [
            "['phone', 'laptop', 'speaker', 'wallet', 'cup', 'mouse', 'charger', 'house', 'car']\n",
            "<class 'list'>\n"
          ]
        }
      ]
    },
    {
      "cell_type": "code",
      "source": [
        "lst3[::]"
      ],
      "metadata": {
        "colab": {
          "base_uri": "https://localhost:8080/"
        },
        "id": "Vk-8D-FjQcHJ",
        "outputId": "885b781c-e70a-4a99-d3f6-ca3f971f2ed4"
      },
      "execution_count": null,
      "outputs": [
        {
          "output_type": "execute_result",
          "data": {
            "text/plain": [
              "['phone',\n",
              " 'laptop',\n",
              " 'speaker',\n",
              " 'wallet',\n",
              " 'cup',\n",
              " 'mouse',\n",
              " 'charger',\n",
              " 'house',\n",
              " 'car']"
            ]
          },
          "metadata": {},
          "execution_count": 62
        }
      ]
    },
    {
      "cell_type": "code",
      "source": [
        "lst3[:: -1]"
      ],
      "metadata": {
        "colab": {
          "base_uri": "https://localhost:8080/"
        },
        "id": "6byk_hShQmAM",
        "outputId": "9f9d6e8d-b89b-43f1-9840-db09e0c127fb"
      },
      "execution_count": null,
      "outputs": [
        {
          "output_type": "execute_result",
          "data": {
            "text/plain": [
              "['car',\n",
              " 'house',\n",
              " 'charger',\n",
              " 'mouse',\n",
              " 'cup',\n",
              " 'wallet',\n",
              " 'speaker',\n",
              " 'laptop',\n",
              " 'phone']"
            ]
          },
          "metadata": {},
          "execution_count": 65
        }
      ]
    },
    {
      "cell_type": "code",
      "source": [],
      "metadata": {
        "id": "8mzSTEUMR8HC"
      },
      "execution_count": null,
      "outputs": []
    },
    {
      "cell_type": "code",
      "source": [],
      "metadata": {
        "id": "ywCmbemvR8Ei"
      },
      "execution_count": null,
      "outputs": []
    },
    {
      "cell_type": "code",
      "source": [
        "lst3[-1:-9: -1]"
      ],
      "metadata": {
        "colab": {
          "base_uri": "https://localhost:8080/"
        },
        "id": "ReleH6aYQ56H",
        "outputId": "a63679a0-1f56-4d83-91ee-ccaf4a5e3039"
      },
      "execution_count": null,
      "outputs": [
        {
          "output_type": "execute_result",
          "data": {
            "text/plain": [
              "['car', 'house', 'charger', 'mouse', 'cup', 'wallet', 'speaker', 'laptop']"
            ]
          },
          "metadata": {},
          "execution_count": 69
        }
      ]
    },
    {
      "cell_type": "code",
      "source": [
        "user3 = ('phone', 'laptop', 'speaker', 'wallet', 'cup', 'mouse', 'charger', 'house', 'car')\n",
        "print(user3[::])\n",
        "print(user3[:: -1])\n",
        "print(user3[-1:-9:-1])\n",
        "print(user3[9:: -1])\n"
      ],
      "metadata": {
        "colab": {
          "base_uri": "https://localhost:8080/"
        },
        "id": "e8wo-xSeR-K0",
        "outputId": "57f5f15c-6b38-4001-d3f6-6ada3a032651"
      },
      "execution_count": null,
      "outputs": [
        {
          "output_type": "stream",
          "name": "stdout",
          "text": [
            "('phone', 'laptop', 'speaker', 'wallet', 'cup', 'mouse', 'charger', 'house', 'car')\n",
            "('car', 'house', 'charger', 'mouse', 'cup', 'wallet', 'speaker', 'laptop', 'phone')\n",
            "('car', 'house', 'charger', 'mouse', 'cup', 'wallet', 'speaker', 'laptop')\n",
            "('car', 'house', 'charger', 'mouse', 'cup', 'wallet', 'speaker', 'laptop', 'phone')\n"
          ]
        }
      ]
    },
    {
      "cell_type": "code",
      "source": [
        "lst3[9:: -1]"
      ],
      "metadata": {
        "colab": {
          "base_uri": "https://localhost:8080/"
        },
        "id": "5netyZSVRIs2",
        "outputId": "3e5968be-c85e-43b7-b7da-4c95e653b372"
      },
      "execution_count": null,
      "outputs": [
        {
          "output_type": "execute_result",
          "data": {
            "text/plain": [
              "['car',\n",
              " 'house',\n",
              " 'charger',\n",
              " 'mouse',\n",
              " 'cup',\n",
              " 'wallet',\n",
              " 'speaker',\n",
              " 'laptop',\n",
              " 'phone']"
            ]
          },
          "metadata": {},
          "execution_count": 71
        }
      ]
    }
  ]
}