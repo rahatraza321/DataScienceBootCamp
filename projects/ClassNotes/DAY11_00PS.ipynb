{
  "nbformat": 4,
  "nbformat_minor": 0,
  "metadata": {
    "colab": {
      "provenance": []
    },
    "kernelspec": {
      "name": "python3",
      "display_name": "Python 3"
    },
    "language_info": {
      "name": "python"
    }
  },
  "cells": [
    {
      "cell_type": "code",
      "execution_count": 1,
      "metadata": {
        "id": "z4KDpxKUi5fj"
      },
      "outputs": [],
      "source": [
        "#OOPS (object oriented)eg,object1 and plannignt o design new phone brand= samsung, model =  stxuv\n",
        "#requirement,accesssories, (object is instanceof class)\n",
        "#actual phone, car is (class) requirement is object\n",
        "\n",
        "class Audi999:\n",
        "  pass\n",
        "\n",
        "obj1 = Audi999()"
      ]
    },
    {
      "cell_type": "code",
      "source": [
        "print(type(obj1))"
      ],
      "metadata": {
        "colab": {
          "base_uri": "https://localhost:8080/"
        },
        "id": "QIJ5KvnAmhdx",
        "outputId": "e3e4f0f0-5644-4fde-9e89-7e8705d76eaa"
      },
      "execution_count": 2,
      "outputs": [
        {
          "output_type": "stream",
          "name": "stdout",
          "text": [
            "<class '__main__.Audi999'>\n"
          ]
        }
      ]
    },
    {
      "cell_type": "code",
      "source": [
        "#overview creating oops\n",
        "class Monroe_student:\n",
        "  def student_info():\n",
        "    pass"
      ],
      "metadata": {
        "id": "arxQxh6zmsij"
      },
      "execution_count": 11,
      "outputs": []
    },
    {
      "cell_type": "code",
      "source": [
        "obj1 = Monroe_student()"
      ],
      "metadata": {
        "id": "zBDS_sIsne0l"
      },
      "execution_count": 12,
      "outputs": []
    },
    {
      "cell_type": "code",
      "source": [
        "obj1.student_info()"
      ],
      "metadata": {
        "colab": {
          "base_uri": "https://localhost:8080/",
          "height": 176
        },
        "id": "q_Lafib_nl2U",
        "outputId": "1764abf9-7262-411a-f437-a332c0feb79a"
      },
      "execution_count": 5,
      "outputs": [
        {
          "output_type": "error",
          "ename": "AttributeError",
          "evalue": "ignored",
          "traceback": [
            "\u001b[0;31m---------------------------------------------------------------------------\u001b[0m",
            "\u001b[0;31mAttributeError\u001b[0m                            Traceback (most recent call last)",
            "\u001b[0;32m<ipython-input-5-0250855843d4>\u001b[0m in \u001b[0;36m<cell line: 1>\u001b[0;34m()\u001b[0m\n\u001b[0;32m----> 1\u001b[0;31m \u001b[0mobj1\u001b[0m\u001b[0;34m.\u001b[0m\u001b[0mstudent_info\u001b[0m\u001b[0;34m(\u001b[0m\u001b[0;34m)\u001b[0m\u001b[0;34m\u001b[0m\u001b[0;34m\u001b[0m\u001b[0m\n\u001b[0m",
            "\u001b[0;31mAttributeError\u001b[0m: 'Audi999' object has no attribute 'student_info'"
          ]
        }
      ]
    },
    {
      "cell_type": "code",
      "source": [
        "class brand_car:\n",
        "  def car_color():\n",
        "    pass"
      ],
      "metadata": {
        "id": "ZaEuq1-eoqHd"
      },
      "execution_count": 13,
      "outputs": []
    },
    {
      "cell_type": "code",
      "source": [
        "obj1 = brand_car()"
      ],
      "metadata": {
        "id": "ioxyOwkRo3-i"
      },
      "execution_count": 14,
      "outputs": []
    },
    {
      "cell_type": "code",
      "source": [
        "obj1.car_color()"
      ],
      "metadata": {
        "colab": {
          "base_uri": "https://localhost:8080/",
          "height": 176
        },
        "id": "HwW8auVxo-6W",
        "outputId": "5657fcf3-43fa-4c81-f7c2-3363398afb62"
      },
      "execution_count": 15,
      "outputs": [
        {
          "output_type": "error",
          "ename": "TypeError",
          "evalue": "ignored",
          "traceback": [
            "\u001b[0;31m---------------------------------------------------------------------------\u001b[0m",
            "\u001b[0;31mTypeError\u001b[0m                                 Traceback (most recent call last)",
            "\u001b[0;32m<ipython-input-15-67d86ef3d426>\u001b[0m in \u001b[0;36m<cell line: 1>\u001b[0;34m()\u001b[0m\n\u001b[0;32m----> 1\u001b[0;31m \u001b[0mobj1\u001b[0m\u001b[0;34m.\u001b[0m\u001b[0mcar_color\u001b[0m\u001b[0;34m(\u001b[0m\u001b[0;34m)\u001b[0m\u001b[0;34m\u001b[0m\u001b[0;34m\u001b[0m\u001b[0m\n\u001b[0m",
            "\u001b[0;31mTypeError\u001b[0m: brand_car.car_color() takes 0 positional arguments but 1 was given"
          ]
        }
      ]
    },
    {
      "cell_type": "code",
      "source": [
        "#component of OOPS(start with ,class, inheritene, polymorphism,abstraction,encapsulaion)\n",
        "\n",
        "class Tribhbuvan_university_student:\n",
        "  def __init__(self, fname, lname, gender, email, contact):\n",
        "    pass"
      ],
      "metadata": {
        "id": "YyWMqvZPpp5a"
      },
      "execution_count": 17,
      "outputs": []
    },
    {
      "cell_type": "code",
      "source": [
        "obj1 = Tribhbuvan_university_student('kin', \"zen\", \"Anto\"obj1, 'm', 'kin.anto@firstmail.com', 9849434872)\n"
      ],
      "metadata": {
        "colab": {
          "base_uri": "https://localhost:8080/",
          "height": 141
        },
        "id": "vi4fYWsUqX-b",
        "outputId": "9a39608e-e62f-43a6-dc0e-0879bf49f505"
      },
      "execution_count": 19,
      "outputs": [
        {
          "output_type": "error",
          "ename": "SyntaxError",
          "evalue": "ignored",
          "traceback": [
            "\u001b[0;36m  File \u001b[0;32m\"<ipython-input-19-6dd73d35f443>\"\u001b[0;36m, line \u001b[0;32m1\u001b[0m\n\u001b[0;31m    obj1 = Tribhbuvan_university_student('kin', \"zen\", \"Anto\"obj1, 'm', 'kin.anto@firstmail.com', 9849434872)\u001b[0m\n\u001b[0m                                                       ^\u001b[0m\n\u001b[0;31mSyntaxError\u001b[0m\u001b[0;31m:\u001b[0m invalid syntax. Perhaps you forgot a comma?\n"
          ]
        }
      ]
    },
    {
      "cell_type": "code",
      "source": [
        "print(type(obj1))"
      ],
      "metadata": {
        "colab": {
          "base_uri": "https://localhost:8080/"
        },
        "id": "S8MKf0Pnq_wi",
        "outputId": "12dcab10-81d5-4331-c808-9cc5699421ce"
      },
      "execution_count": 20,
      "outputs": [
        {
          "output_type": "stream",
          "name": "stdout",
          "text": [
            "<class '__main__.brand_car'>\n"
          ]
        }
      ]
    },
    {
      "cell_type": "code",
      "source": [
        "class Tribhbuvan_university_student:\n",
        "  def __init__(self, fname, mname, lname, gender, email, contact):\n",
        "    self.fname = fname\n",
        "    self.mname = mname\n",
        "    self.lname = lname\n",
        "    self.gender = gender\n",
        "    self.email = email\n",
        "    self.contact = contact\n",
        "    print(self.fname, self,fname, self.lname, self.gender, self.email, self.contact)\n"
      ],
      "metadata": {
        "id": "N0VE2GPgrGt0"
      },
      "execution_count": 34,
      "outputs": []
    },
    {
      "cell_type": "code",
      "source": [
        "obj1 = Tribhbuvan_university_student('raza', \"rahat\", \"khan\", 'm', 'raza.khan@firstmail.com', 9849)"
      ],
      "metadata": {
        "colab": {
          "base_uri": "https://localhost:8080/"
        },
        "id": "Wc2aknCrrtYr",
        "outputId": "3fe7439e-f825-4dc2-8771-b1f9df9c030b"
      },
      "execution_count": 35,
      "outputs": [
        {
          "output_type": "stream",
          "name": "stdout",
          "text": [
            "raza <__main__.Tribhbuvan_university_student object at 0x79c0c14abd90> raza khan m raza.khan@firstmail.com 9849\n"
          ]
        }
      ]
    },
    {
      "cell_type": "code",
      "source": [
        "class Tribhbuvan_university_student:\n",
        "  def __init__(self, fname, mname, lname, gender, email, contact):\n",
        "    self.fname = fname\n",
        "    self.mname = mname\n",
        "    self.lname = lname\n",
        "    self.gender = gender\n",
        "    self.email = email\n",
        "    self.contact = contact\n",
        "\n",
        "  def stud_details(self):\n",
        "    print(self.fname, self.fname, self.lname, self.gender, self.email, self.contact)\n"
      ],
      "metadata": {
        "id": "m4Ws25cLrq2Q"
      },
      "execution_count": 39,
      "outputs": []
    },
    {
      "cell_type": "code",
      "source": [
        "obj1 = Tribhbuvan_university_student('raza', \"rahat\", \"khan\", 'm', 'raza.khan@firstmail.com', 9849)"
      ],
      "metadata": {
        "id": "ywET1lCZwo5t"
      },
      "execution_count": 40,
      "outputs": []
    },
    {
      "cell_type": "code",
      "source": [
        "obj1.stud_details()"
      ],
      "metadata": {
        "colab": {
          "base_uri": "https://localhost:8080/"
        },
        "id": "xogYE2dMwtfH",
        "outputId": "b771aa05-81ea-4d9d-bbec-1ae512f21ead"
      },
      "execution_count": 41,
      "outputs": [
        {
          "output_type": "stream",
          "name": "stdout",
          "text": [
            "raza raza khan m raza.khan@firstmail.com 9849\n"
          ]
        }
      ]
    },
    {
      "cell_type": "code",
      "source": [
        "class Tribhbuvan_university_student:\n",
        "  def __parts__(parts, ram, harddisk, processor, battery, charger, brand):\n",
        "    parts.ram = ram\n",
        "    parts.harddisk = harddisk\n",
        "    parts.processor = processor\n",
        "    parts.battery = battery\n",
        "    parts.charger = charger\n",
        "    parts.brand = brand\n",
        "    print(parts, ram, harddisk, processor, battery, charger, brand)"
      ],
      "metadata": {
        "id": "JuooEfGxw71i"
      },
      "execution_count": 43,
      "outputs": []
    },
    {
      "cell_type": "code",
      "source": [
        "class car:\n",
        "  def __init__(self, name, model,fuel, hp, cylinders):\n",
        "    self.name = name\n",
        "    self.model = model\n",
        "    self.fuel = fuel\n",
        "    self.hp = hp\n",
        "    self.cylinders = cylinders\n",
        "  def car_details(self):\n",
        "   # print(self.name, self.model, self.fuel, self.hp, self.cylinders)\n",
        "     print(\"The car name is {self.name}.\")\n",
        "     print(\"The car model is {self.model}.\")\n",
        "     print(\"The car fuel efficiency is {self.fuel}.\")\n",
        "     print(\"The car hp is {self.hp}.\")\n",
        "     print(\"The car cylinders is {self.cylinders}.\")\n",
        "\n",
        ""
      ],
      "metadata": {
        "id": "p6_pg4H21R4q"
      },
      "execution_count": 47,
      "outputs": []
    },
    {
      "cell_type": "code",
      "source": [
        "obj1 = car(\"Honda\", 'Passport', 'Gasoline', 300, 6)"
      ],
      "metadata": {
        "id": "eV20983s2ODt"
      },
      "execution_count": 48,
      "outputs": []
    },
    {
      "cell_type": "code",
      "source": [
        "obj1.car_details()"
      ],
      "metadata": {
        "colab": {
          "base_uri": "https://localhost:8080/"
        },
        "id": "FiydHLty2f1y",
        "outputId": "08e29b0a-3040-4d21-ae09-afdafc8e2290"
      },
      "execution_count": 49,
      "outputs": [
        {
          "output_type": "stream",
          "name": "stdout",
          "text": [
            "The car name is {self.name}.\n",
            "The car model is {self.model}.\n",
            "The car fuel efficiency is {self.fuel}.\n",
            "The car hp is {self.hp}.\n",
            "The car cylinders is {self.cylinders}.\n"
          ]
        }
      ]
    },
    {
      "cell_type": "markdown",
      "source": [
        "INHERITENCE"
      ],
      "metadata": {
        "id": "UohKDepn3V6L"
      }
    },
    {
      "cell_type": "code",
      "source": [
        "#Great Grand parent class\n",
        "class transportation:\n",
        "  pass"
      ],
      "metadata": {
        "id": "wwLIpcr23Yzb"
      },
      "execution_count": 50,
      "outputs": []
    },
    {
      "cell_type": "code",
      "source": [
        "# Grand parent class\n",
        "class air():\n",
        "  pass\n",
        "class water():\n",
        "  pass\n",
        "class land():\n",
        "  pass\n",
        "\n",
        "\n",
        "# Parent class\n",
        "class wheeler2(land):\n",
        "  pass\n",
        "class wheeler3(land):\n",
        "  pass\n",
        "class wheeler4(land):\n",
        "  pass\n",
        "class wheeler6(land):\n",
        "  pass\n",
        "class wheeler8(land):\n",
        "  pass\n",
        "class wheeler10(land):\n",
        "  pass\n",
        "class wheeler12(land):\n",
        "  pass\n",
        "\n",
        "#Child class\n",
        "class gas():\n",
        "  pass\n",
        "class petrol():\n",
        "  pass\n",
        "class electric():\n",
        "  pass\n",
        "class battery():\n",
        "  pass\n",
        "class solar():\n",
        "  pass\n",
        "\n",
        "\n",
        "\n",
        "\n"
      ],
      "metadata": {
        "id": "_EmKex7Y6Mn9"
      },
      "execution_count": 52,
      "outputs": []
    },
    {
      "cell_type": "code",
      "source": [
        "class ARMY:\n",
        "  pass"
      ],
      "metadata": {
        "id": "E0-5KMGE6fZw"
      },
      "execution_count": 53,
      "outputs": []
    },
    {
      "cell_type": "code",
      "source": [
        "class air():\n",
        "  pass\n",
        "class water():\n",
        "  pass\n",
        "class land():\n",
        "  pass\n",
        "\n",
        "class Nationalguard(land):\n",
        "  pass\n",
        "class SSD(land):\n",
        "  pass\n",
        "class Navy(land):\n",
        "  pass\n",
        "class Marine(land):\n",
        "  pass\n",
        "\n",
        "class Airport():\n",
        "  pass\n",
        "class portauthority():\n",
        "  pass\n",
        "class MTA():\n",
        "  pass\n",
        "class ultratrained():\n",
        "  pass\n",
        "class armpolice():\n",
        "  pass\n"
      ],
      "metadata": {
        "id": "KC5e9EVv-vmo"
      },
      "execution_count": 54,
      "outputs": []
    },
    {
      "cell_type": "markdown",
      "source": [
        "**Second Hlaf Class**"
      ],
      "metadata": {
        "id": "Bge_XIZdC9m8"
      }
    },
    {
      "cell_type": "code",
      "source": [
        "# 1. Write a Python Function that accepts a hyphen-separated sequence of words as input and prints the words in a hyphen-separated sequence after sorting them alphabetically.\n",
        "#Sample Items : green-red-yellow-black-white\n",
        "#Expected Result : black-green-red-white-yellow\n",
        "\n",
        "def sort_the_string(word_str):\n",
        "  word_list=word_str.split(\"-\")\n",
        "  sorted_list=sorted(word_list)\n",
        "  print(\"-\".join(sorted_list))\n",
        "\n",
        "sort_the_string(\"green-red-yellow-black-white-blue\")"
      ],
      "metadata": {
        "colab": {
          "base_uri": "https://localhost:8080/"
        },
        "id": "_kPwW9hxDIAj",
        "outputId": "093cc2fb-f169-4355-f5d2-cff02339c13b"
      },
      "execution_count": 71,
      "outputs": [
        {
          "output_type": "stream",
          "name": "stdout",
          "text": [
            "black-blue-green-red-white-yellow\n"
          ]
        }
      ]
    },
    {
      "cell_type": "code",
      "source": [
        "def sort_the_string(word_str):\n",
        "  word_list=word_str.split(\"-\")\n",
        "  sorted_list=sorted(word_list)\n",
        "  str_out=\"\"\n",
        "  print(\"sorted listy\", sorted_list)\n",
        "  for k in range sorted_list:\n",
        "    if len(str_out)==0:\n",
        "\n",
        "    str_out=str_out+\"-\"+k\n",
        "  print(\"-\".join(sorted_list))\n",
        "\n",
        "sort_the_string(\"green-red-yellow-black-white-blue\")"
      ],
      "metadata": {
        "id": "TODxpTUCKrnp"
      },
      "execution_count": null,
      "outputs": []
    },
    {
      "cell_type": "code",
      "source": [
        "# 2. Write a function that accepts a string and count consonant and vowels in that string\n",
        "\n",
        "def count_const_vowels(words):\n",
        "  vowels_list=['a','e','i','o','u']\n",
        "  count_vowls=0\n",
        "  count_const=0\n",
        "  for k in words:\n",
        "    if k.isalpha():\n",
        "     if k in vowels_list:\n",
        "      count_vowls=count_vowls+1\n",
        "     else:\n",
        "      count_const=count_const+1\n",
        "  print(\"count of constants\",count_const)\n",
        "  print(\"count of vowels\", count_vowls)\n",
        "\n",
        "  count_const_vowels(\"blackgreenredwhiteyellow\")\n"
      ],
      "metadata": {
        "id": "dROC_UQEGCDK"
      },
      "execution_count": 79,
      "outputs": []
    },
    {
      "cell_type": "code",
      "source": [
        "# 3. Write a Python function to check whether a number is \"Perfect\" or not.\n",
        "#According to Wikipedia : In number theory, a perfect number is a positive integer that is equal to the sum of its proper positive divisors, that is, the sum of its positive divisors excluding the number itself (also known as its aliquot sum). Equivalently, a perfect number is a number that is half the sum of all of its positive divisors (including itself).\n",
        "#Example : The first perfect number is 6, because 1, 2, and 3 are its proper positive divisors, and 1 + 2 + 3 = 6. Equivalently, the number 6 is equal to half the sum of all its positive divisors: ( 1 + 2 + 3 + 6 ) / 2 = 6. The next perfect number is 28 = 1 + 2 + 4 + 7 + 14. This is followed by the perfect numbers 496 and 8128.\n",
        "\n",
        "n = int(input(\"Enter any number:\"))\n",
        "sum1 = 0\n",
        "for i in range(1, n):\n",
        "  if(n % i ==0):\n",
        "    sum1 = sum1 + i\n",
        "if (sum1 ==n):\n",
        "    print(\"The number is a perfect number.\")\n",
        "else:\n",
        "    print(\"The number is not perfect number.\")"
      ],
      "metadata": {
        "colab": {
          "base_uri": "https://localhost:8080/"
        },
        "id": "miOR0xFKUyXX",
        "outputId": "df3ee11b-5f5a-4043-daa2-fc75f515491b"
      },
      "execution_count": 84,
      "outputs": [
        {
          "output_type": "stream",
          "name": "stdout",
          "text": [
            "Enter any number:18\n",
            "The number is not perfect nmber.\n"
          ]
        }
      ]
    },
    {
      "cell_type": "code",
      "source": [
        "# 4. Write a program to print twin primes less than 1000. If two consecutive odd numbers are both prime then they are known as twin primes\n",
        "\n"
      ],
      "metadata": {
        "id": "8j3DnF5sX6kG"
      },
      "execution_count": null,
      "outputs": []
    }
  ]
}