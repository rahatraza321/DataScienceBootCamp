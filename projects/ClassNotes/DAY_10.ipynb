{
  "nbformat": 4,
  "nbformat_minor": 0,
  "metadata": {
    "colab": {
      "provenance": []
    },
    "kernelspec": {
      "name": "python3",
      "display_name": "Python 3"
    },
    "language_info": {
      "name": "python"
    }
  },
  "cells": [
    {
      "cell_type": "code",
      "execution_count": 44,
      "metadata": {
        "colab": {
          "base_uri": "https://localhost:8080/",
          "height": 228
        },
        "id": "qtMTLzUJGJgl",
        "outputId": "e14f9256-100b-4f22-c054-143ed8e0544f"
      },
      "outputs": [
        {
          "output_type": "error",
          "ename": "FileExistsError",
          "evalue": "ignored",
          "traceback": [
            "\u001b[0;31m---------------------------------------------------------------------------\u001b[0m",
            "\u001b[0;31mFileExistsError\u001b[0m                           Traceback (most recent call last)",
            "\u001b[0;32m<ipython-input-44-285fecfc8378>\u001b[0m in \u001b[0;36m<cell line: 4>\u001b[0;34m()\u001b[0m\n\u001b[1;32m      2\u001b[0m \u001b[0;31m#Python file operation(creating, writing, reading and operating file)-can in index or binary mode\u001b[0m\u001b[0;34m\u001b[0m\u001b[0;34m\u001b[0m\u001b[0m\n\u001b[1;32m      3\u001b[0m \u001b[0;31m#.txt(extension)\u001b[0m\u001b[0;34m\u001b[0m\u001b[0;34m\u001b[0m\u001b[0m\n\u001b[0;32m----> 4\u001b[0;31m \u001b[0mf\u001b[0m \u001b[0;34m=\u001b[0m \u001b[0mopen\u001b[0m\u001b[0;34m(\u001b[0m\u001b[0;34m'my_file_opertion.txt'\u001b[0m\u001b[0;34m,\u001b[0m \u001b[0;34m'x'\u001b[0m\u001b[0;34m)\u001b[0m\u001b[0;34m\u001b[0m\u001b[0;34m\u001b[0m\u001b[0m\n\u001b[0m\u001b[1;32m      5\u001b[0m \u001b[0;34m\u001b[0m\u001b[0m\n",
            "\u001b[0;31mFileExistsError\u001b[0m: [Errno 17] File exists: 'my_file_opertion.txt'"
          ]
        }
      ],
      "source": [
        "#Friday August 18, 2023\n",
        "#Python file operation(creating, writing, reading and operating file)-can in index or binary mode\n",
        "#.txt(extension)\n",
        "f = open('my_file_opertion.txt', 'x')\n",
        "\n"
      ]
    },
    {
      "cell_type": "code",
      "source": [
        "try:\n",
        "  f = open('my_file_opertion.txt', 'x')\n",
        "except FileExistsError as fnfe:\n",
        "  print('FileExistsError', fnfe)"
      ],
      "metadata": {
        "colab": {
          "base_uri": "https://localhost:8080/"
        },
        "id": "XissRENbT2hp",
        "outputId": "39aaa668-abff-4680-b7f4-9b7c5c326a99"
      },
      "execution_count": 45,
      "outputs": [
        {
          "output_type": "stream",
          "name": "stdout",
          "text": [
            "FileExistsError [Errno 17] File exists: 'my_file_opertion.txt'\n"
          ]
        }
      ]
    },
    {
      "cell_type": "code",
      "source": [
        "#write particular file\n",
        "f = open('my_file_opertion.txt', 'w')"
      ],
      "metadata": {
        "id": "o1hHWRWRHL-Y"
      },
      "execution_count": 3,
      "outputs": []
    },
    {
      "cell_type": "code",
      "source": [
        "f.write('This is my first file operation program.')"
      ],
      "metadata": {
        "colab": {
          "base_uri": "https://localhost:8080/"
        },
        "id": "GVPXp4q8HTE8",
        "outputId": "459fa37a-9f7d-44c1-aea4-dc654ab68dbe"
      },
      "execution_count": 2,
      "outputs": [
        {
          "output_type": "execute_result",
          "data": {
            "text/plain": [
              "40"
            ]
          },
          "metadata": {},
          "execution_count": 2
        }
      ]
    },
    {
      "cell_type": "code",
      "source": [
        "f = open('my_file_operation.txt', 'r')\n"
      ],
      "metadata": {
        "id": "YAb6PSclHhk2"
      },
      "execution_count": 12,
      "outputs": []
    },
    {
      "cell_type": "code",
      "source": [
        "f.read()"
      ],
      "metadata": {
        "colab": {
          "base_uri": "https://localhost:8080/",
          "height": 35
        },
        "id": "05TY9Fj_IbgB",
        "outputId": "a964e8ee-bf7d-4384-ddd9-dcdcb97f12b9"
      },
      "execution_count": 13,
      "outputs": [
        {
          "output_type": "execute_result",
          "data": {
            "text/plain": [
              "'This is set of new text for myfilemy_file_operation.txtThis is set of new text for my fil emy_file_operation.txt'"
            ],
            "application/vnd.google.colaboratory.intrinsic+json": {
              "type": "string"
            }
          },
          "metadata": {},
          "execution_count": 13
        }
      ]
    },
    {
      "cell_type": "code",
      "source": [
        "f = open('my_file_operation.txt', 'a')"
      ],
      "metadata": {
        "id": "mAx7GnJ_Hp-i"
      },
      "execution_count": 7,
      "outputs": []
    },
    {
      "cell_type": "code",
      "source": [
        "f.write('This is set of new text for my fil emy_file_operation.txt')"
      ],
      "metadata": {
        "colab": {
          "base_uri": "https://localhost:8080/"
        },
        "id": "tEWOx_8nH3du",
        "outputId": "855f5d74-daff-4452-906d-8d7b729d3063"
      },
      "execution_count": 9,
      "outputs": [
        {
          "output_type": "execute_result",
          "data": {
            "text/plain": [
              "57"
            ]
          },
          "metadata": {},
          "execution_count": 9
        }
      ]
    },
    {
      "cell_type": "code",
      "source": [
        "f = open('my_file_operation.txt', 'r')"
      ],
      "metadata": {
        "id": "rJo_AcoFIJvP"
      },
      "execution_count": 10,
      "outputs": []
    },
    {
      "cell_type": "code",
      "source": [
        "f.read()"
      ],
      "metadata": {
        "colab": {
          "base_uri": "https://localhost:8080/",
          "height": 35
        },
        "id": "VrY3BrJeISE8",
        "outputId": "fbb30fd7-28fe-4c33-bbbf-162193721581"
      },
      "execution_count": 11,
      "outputs": [
        {
          "output_type": "execute_result",
          "data": {
            "text/plain": [
              "'This is set of new text for myfilemy_file_operation.txtThis is set of new text for my fil emy_file_operation.txt'"
            ],
            "application/vnd.google.colaboratory.intrinsic+json": {
              "type": "string"
            }
          },
          "metadata": {},
          "execution_count": 11
        }
      ]
    },
    {
      "cell_type": "code",
      "source": [
        "folder = open('my_bootcamp.txt', 'x')"
      ],
      "metadata": {
        "colab": {
          "base_uri": "https://localhost:8080/",
          "height": 176
        },
        "id": "x-DB5ojpKBR5",
        "outputId": "9c1ba3ad-11c8-4787-e5bc-c43a5bbd1f64"
      },
      "execution_count": 20,
      "outputs": [
        {
          "output_type": "error",
          "ename": "FileExistsError",
          "evalue": "ignored",
          "traceback": [
            "\u001b[0;31m---------------------------------------------------------------------------\u001b[0m",
            "\u001b[0;31mFileExistsError\u001b[0m                           Traceback (most recent call last)",
            "\u001b[0;32m<ipython-input-20-15b5d8b29f79>\u001b[0m in \u001b[0;36m<cell line: 1>\u001b[0;34m()\u001b[0m\n\u001b[0;32m----> 1\u001b[0;31m \u001b[0mfolder\u001b[0m \u001b[0;34m=\u001b[0m \u001b[0mopen\u001b[0m\u001b[0;34m(\u001b[0m\u001b[0;34m'my_bootcamp.txt'\u001b[0m\u001b[0;34m,\u001b[0m \u001b[0;34m'x'\u001b[0m\u001b[0;34m)\u001b[0m\u001b[0;34m\u001b[0m\u001b[0;34m\u001b[0m\u001b[0m\n\u001b[0m",
            "\u001b[0;31mFileExistsError\u001b[0m: [Errno 17] File exists: 'my_bootcamp.txt'"
          ]
        }
      ]
    },
    {
      "cell_type": "code",
      "source": [
        "try:\n",
        "  folder = open('my_bootcamp.txt', 'x')\n",
        "except FileExistsError as fnfe:\n",
        "  print('FileExistsError', fnfe)"
      ],
      "metadata": {
        "colab": {
          "base_uri": "https://localhost:8080/"
        },
        "id": "k7w7Yts9RyZ9",
        "outputId": "0cb71e6a-dfb6-408c-9413-43b77853adda"
      },
      "execution_count": 43,
      "outputs": [
        {
          "output_type": "stream",
          "name": "stdout",
          "text": [
            "FileExistsError [Errno 17] File exists: 'my_bootcamp.txt'\n"
          ]
        }
      ]
    },
    {
      "cell_type": "code",
      "source": [
        "folder = open('my_college.txt', 'x') #create a file"
      ],
      "metadata": {
        "id": "0vJt8s_QKomC"
      },
      "execution_count": 21,
      "outputs": []
    },
    {
      "cell_type": "code",
      "source": [
        "folder = open('my_college.txt', 'w')# write on file"
      ],
      "metadata": {
        "id": "F3zj088PK2J0"
      },
      "execution_count": 22,
      "outputs": []
    },
    {
      "cell_type": "code",
      "source": [
        "folder.write('This is my second folder.')"
      ],
      "metadata": {
        "colab": {
          "base_uri": "https://localhost:8080/"
        },
        "id": "TMJnpnftK5zU",
        "outputId": "85080e38-788b-4d2a-c5e3-437b21cf3e3b"
      },
      "execution_count": 23,
      "outputs": [
        {
          "output_type": "execute_result",
          "data": {
            "text/plain": [
              "25"
            ]
          },
          "metadata": {},
          "execution_count": 23
        }
      ]
    },
    {
      "cell_type": "code",
      "source": [
        "folder = open('my_college.txt', 'r')# read file"
      ],
      "metadata": {
        "id": "kDDzEZJ6LISJ"
      },
      "execution_count": 24,
      "outputs": []
    },
    {
      "cell_type": "code",
      "source": [
        "folder.read()"
      ],
      "metadata": {
        "colab": {
          "base_uri": "https://localhost:8080/",
          "height": 35
        },
        "id": "Mb6rU-h1LKpV",
        "outputId": "6dabb6b7-ec66-4757-c023-d32f3c550ef7"
      },
      "execution_count": 25,
      "outputs": [
        {
          "output_type": "execute_result",
          "data": {
            "text/plain": [
              "'This is my second folder.'"
            ],
            "application/vnd.google.colaboratory.intrinsic+json": {
              "type": "string"
            }
          },
          "metadata": {},
          "execution_count": 25
        }
      ]
    },
    {
      "cell_type": "code",
      "source": [
        "folder = open('my_college.txt', 'a')#append file"
      ],
      "metadata": {
        "id": "PICmm2jWLPIq"
      },
      "execution_count": 26,
      "outputs": []
    },
    {
      "cell_type": "code",
      "source": [
        "folder.write('I m trying to create new path for my folder folder')"
      ],
      "metadata": {
        "colab": {
          "base_uri": "https://localhost:8080/",
          "height": 176
        },
        "id": "CDQOI9f_Ljco",
        "outputId": "6c4e64d2-3b88-4229-b893-3be6b50cb6cf"
      },
      "execution_count": 36,
      "outputs": [
        {
          "output_type": "error",
          "ename": "UnsupportedOperation",
          "evalue": "ignored",
          "traceback": [
            "\u001b[0;31m---------------------------------------------------------------------------\u001b[0m",
            "\u001b[0;31mUnsupportedOperation\u001b[0m                      Traceback (most recent call last)",
            "\u001b[0;32m<ipython-input-36-bdc1c88acd16>\u001b[0m in \u001b[0;36m<cell line: 1>\u001b[0;34m()\u001b[0m\n\u001b[0;32m----> 1\u001b[0;31m \u001b[0mfolder\u001b[0m\u001b[0;34m.\u001b[0m\u001b[0mwrite\u001b[0m\u001b[0;34m(\u001b[0m\u001b[0;34m'I m trying to create new path for my folder folder'\u001b[0m\u001b[0;34m)\u001b[0m\u001b[0;34m\u001b[0m\u001b[0;34m\u001b[0m\u001b[0m\n\u001b[0m",
            "\u001b[0;31mUnsupportedOperation\u001b[0m: not writable"
          ]
        }
      ]
    },
    {
      "cell_type": "code",
      "source": [
        "folder = open('my_college.txt', 'r')#run file"
      ],
      "metadata": {
        "id": "MAz1FmzUMOVb"
      },
      "execution_count": 29,
      "outputs": []
    },
    {
      "cell_type": "code",
      "source": [
        "folder.read()"
      ],
      "metadata": {
        "colab": {
          "base_uri": "https://localhost:8080/",
          "height": 35
        },
        "id": "I0iUWbMDMR3B",
        "outputId": "09995250-f36a-49ca-e244-ecf68b7d7065"
      },
      "execution_count": 30,
      "outputs": [
        {
          "output_type": "execute_result",
          "data": {
            "text/plain": [
              "'This is my second folder.I m trying to create new path for my folder folder'"
            ],
            "application/vnd.google.colaboratory.intrinsic+json": {
              "type": "string"
            }
          },
          "metadata": {},
          "execution_count": 30
        }
      ]
    },
    {
      "cell_type": "markdown",
      "source": [
        "##Exception Handling\n",
        " 1. Syntax error\n",
        " 2. Logical error\n",
        " 3. run time error"
      ],
      "metadata": {
        "id": "pHA41vcMPJhm"
      }
    },
    {
      "cell_type": "code",
      "source": [
        "###Exception handling ##quotation error:\n",
        "print('name is raza\")"
      ],
      "metadata": {
        "colab": {
          "base_uri": "https://localhost:8080/",
          "height": 141
        },
        "id": "XP2EBpkOPDTL",
        "outputId": "2c8e5bf0-29e9-45cc-8e5f-b0f692c45c9f"
      },
      "execution_count": 40,
      "outputs": [
        {
          "output_type": "error",
          "ename": "SyntaxError",
          "evalue": "ignored",
          "traceback": [
            "\u001b[0;36m  File \u001b[0;32m\"<ipython-input-40-d3d778134bdb>\"\u001b[0;36m, line \u001b[0;32m2\u001b[0m\n\u001b[0;31m    print('name is raza\") ##quotation error:\u001b[0m\n\u001b[0m          ^\u001b[0m\n\u001b[0;31mSyntaxError\u001b[0m\u001b[0;31m:\u001b[0m unterminated string literal (detected at line 2)\n"
          ]
        }
      ]
    },
    {
      "cell_type": "code",
      "source": [
        "try:\n",
        "  folder = open('my_bootcamp.txt', 'x')\n",
        "except FileExistsError as fnfe:\n",
        "  print('FileExistsError', fnfe)"
      ],
      "metadata": {
        "id": "WS_opDU6SVCr"
      },
      "execution_count": null,
      "outputs": []
    },
    {
      "cell_type": "code",
      "source": [
        "for i in range(10)#mising column:\n",
        "print(i)"
      ],
      "metadata": {
        "colab": {
          "base_uri": "https://localhost:8080/",
          "height": 141
        },
        "id": "4bwXEH6DP1do",
        "outputId": "d831fb66-7ca4-4765-8f52-f683c54d5a58"
      },
      "execution_count": 39,
      "outputs": [
        {
          "output_type": "error",
          "ename": "SyntaxError",
          "evalue": "ignored",
          "traceback": [
            "\u001b[0;36m  File \u001b[0;32m\"<ipython-input-39-22b14165345a>\"\u001b[0;36m, line \u001b[0;32m1\u001b[0m\n\u001b[0;31m    for i in range(10)\u001b[0m\n\u001b[0m                      ^\u001b[0m\n\u001b[0;31mSyntaxError\u001b[0m\u001b[0;31m:\u001b[0m expected ':'\n"
          ]
        }
      ]
    },
    {
      "cell_type": "code",
      "source": [
        "##indentation error\n",
        "for i in range(10)#mising column:\n",
        "print  (i)"
      ],
      "metadata": {
        "colab": {
          "base_uri": "https://localhost:8080/",
          "height": 141
        },
        "id": "sEMRaBXmP-Sg",
        "outputId": "9538adbe-a352-4a98-b7bd-3cf198ac5865"
      },
      "execution_count": 41,
      "outputs": [
        {
          "output_type": "error",
          "ename": "SyntaxError",
          "evalue": "ignored",
          "traceback": [
            "\u001b[0;36m  File \u001b[0;32m\"<ipython-input-41-8900724eeed8>\"\u001b[0;36m, line \u001b[0;32m2\u001b[0m\n\u001b[0;31m    for i in range(10)#mising column:\u001b[0m\n\u001b[0m                      ^\u001b[0m\n\u001b[0;31mSyntaxError\u001b[0m\u001b[0;31m:\u001b[0m expected ':'\n"
          ]
        }
      ]
    },
    {
      "cell_type": "code",
      "source": [
        "##Logical error\n",
        "2+2"
      ],
      "metadata": {
        "colab": {
          "base_uri": "https://localhost:8080/"
        },
        "id": "Ne-k1W0gQPj2",
        "outputId": "220714e7-9745-42e5-ea6c-6b9ab562364d"
      },
      "execution_count": 42,
      "outputs": [
        {
          "output_type": "execute_result",
          "data": {
            "text/plain": [
              "4"
            ]
          },
          "metadata": {},
          "execution_count": 42
        }
      ]
    },
    {
      "cell_type": "code",
      "source": [
        "lst1 = [12,23,34,45,56,67,78,89,90,10,20,30,40,50,60,70,80,90,100]\n",
        "v_len = len(lst1)\n",
        "for i in range(v_len+3):\n",
        "  print('value inside my list', lst1[i])"
      ],
      "metadata": {
        "colab": {
          "base_uri": "https://localhost:8080/",
          "height": 540
        },
        "id": "q1fseJknyDz0",
        "outputId": "1f6d8722-ef45-43a3-9a21-f765c4913509"
      },
      "execution_count": 1,
      "outputs": [
        {
          "output_type": "stream",
          "name": "stdout",
          "text": [
            "value inside my list 12\n",
            "value inside my list 23\n",
            "value inside my list 34\n",
            "value inside my list 45\n",
            "value inside my list 56\n",
            "value inside my list 67\n",
            "value inside my list 78\n",
            "value inside my list 89\n",
            "value inside my list 90\n",
            "value inside my list 10\n",
            "value inside my list 20\n",
            "value inside my list 30\n",
            "value inside my list 40\n",
            "value inside my list 50\n",
            "value inside my list 60\n",
            "value inside my list 70\n",
            "value inside my list 80\n",
            "value inside my list 90\n",
            "value inside my list 100\n"
          ]
        },
        {
          "output_type": "error",
          "ename": "IndexError",
          "evalue": "ignored",
          "traceback": [
            "\u001b[0;31m---------------------------------------------------------------------------\u001b[0m",
            "\u001b[0;31mIndexError\u001b[0m                                Traceback (most recent call last)",
            "\u001b[0;32m<ipython-input-1-b043b20f0468>\u001b[0m in \u001b[0;36m<cell line: 3>\u001b[0;34m()\u001b[0m\n\u001b[1;32m      2\u001b[0m \u001b[0mv_len\u001b[0m \u001b[0;34m=\u001b[0m \u001b[0mlen\u001b[0m\u001b[0;34m(\u001b[0m\u001b[0mlst1\u001b[0m\u001b[0;34m)\u001b[0m\u001b[0;34m\u001b[0m\u001b[0;34m\u001b[0m\u001b[0m\n\u001b[1;32m      3\u001b[0m \u001b[0;32mfor\u001b[0m \u001b[0mi\u001b[0m \u001b[0;32min\u001b[0m \u001b[0mrange\u001b[0m\u001b[0;34m(\u001b[0m\u001b[0mv_len\u001b[0m\u001b[0;34m+\u001b[0m\u001b[0;36m3\u001b[0m\u001b[0;34m)\u001b[0m\u001b[0;34m:\u001b[0m\u001b[0;34m\u001b[0m\u001b[0;34m\u001b[0m\u001b[0m\n\u001b[0;32m----> 4\u001b[0;31m   \u001b[0mprint\u001b[0m\u001b[0;34m(\u001b[0m\u001b[0;34m'value inside my list'\u001b[0m\u001b[0;34m,\u001b[0m \u001b[0mlst1\u001b[0m\u001b[0;34m[\u001b[0m\u001b[0mi\u001b[0m\u001b[0;34m]\u001b[0m\u001b[0;34m)\u001b[0m\u001b[0;34m\u001b[0m\u001b[0;34m\u001b[0m\u001b[0m\n\u001b[0m",
            "\u001b[0;31mIndexError\u001b[0m: list index out of range"
          ]
        }
      ]
    },
    {
      "cell_type": "code",
      "source": [
        "lst1 = [12,23,34,45,56,67,78,89,90,10,20,30,40,50,60,70,80,90,100]\n",
        "v_len = len(lst1)\n",
        "print(v_len, v_len+3)\n",
        "for i in range(v_len+3):\n",
        "  try:\n",
        "    print('value inside my list', lst1[i])\n",
        "  except IndexError as ie:\n",
        "    print('IndexError Exception my lis is of length', v_len, 'and trying to fetch index', v_len+3, ie)"
      ],
      "metadata": {
        "colab": {
          "base_uri": "https://localhost:8080/"
        },
        "id": "hMcsmr4hzQ9A",
        "outputId": "dadb132f-e95c-480a-8151-44b40f32606e"
      },
      "execution_count": 3,
      "outputs": [
        {
          "output_type": "stream",
          "name": "stdout",
          "text": [
            "19 22\n",
            "value inside my list 12\n",
            "value inside my list 23\n",
            "value inside my list 34\n",
            "value inside my list 45\n",
            "value inside my list 56\n",
            "value inside my list 67\n",
            "value inside my list 78\n",
            "value inside my list 89\n",
            "value inside my list 90\n",
            "value inside my list 10\n",
            "value inside my list 20\n",
            "value inside my list 30\n",
            "value inside my list 40\n",
            "value inside my list 50\n",
            "value inside my list 60\n",
            "value inside my list 70\n",
            "value inside my list 80\n",
            "value inside my list 90\n",
            "value inside my list 100\n",
            "IndexError Exception my lis is of length 19 and trying to fetch index 22 list index out of range\n",
            "IndexError Exception my lis is of length 19 and trying to fetch index 22 list index out of range\n",
            "IndexError Exception my lis is of length 19 and trying to fetch index 22 list index out of range\n"
          ]
        }
      ]
    },
    {
      "cell_type": "code",
      "source": [
        "#if one specific attribute is not applicabe with fearure (.append is not possible in tupple)\n",
        "tup1 = (1,2,3,4,5,6,7,8,9,10)\n",
        "tup1.append(11)"
      ],
      "metadata": {
        "colab": {
          "base_uri": "https://localhost:8080/",
          "height": 210
        },
        "id": "ScQA98Ix0PTF",
        "outputId": "e11a378d-7444-4a55-f4f9-e802cffd148e"
      },
      "execution_count": 4,
      "outputs": [
        {
          "output_type": "error",
          "ename": "AttributeError",
          "evalue": "ignored",
          "traceback": [
            "\u001b[0;31m---------------------------------------------------------------------------\u001b[0m",
            "\u001b[0;31mAttributeError\u001b[0m                            Traceback (most recent call last)",
            "\u001b[0;32m<ipython-input-4-340b9c2b7fbe>\u001b[0m in \u001b[0;36m<cell line: 3>\u001b[0;34m()\u001b[0m\n\u001b[1;32m      1\u001b[0m \u001b[0;31m#if one specific attribute is not applicabe with fearure\u001b[0m\u001b[0;34m\u001b[0m\u001b[0;34m\u001b[0m\u001b[0m\n\u001b[1;32m      2\u001b[0m \u001b[0mtup1\u001b[0m \u001b[0;34m=\u001b[0m \u001b[0;34m(\u001b[0m\u001b[0;36m1\u001b[0m\u001b[0;34m,\u001b[0m\u001b[0;36m2\u001b[0m\u001b[0;34m,\u001b[0m\u001b[0;36m3\u001b[0m\u001b[0;34m,\u001b[0m\u001b[0;36m4\u001b[0m\u001b[0;34m,\u001b[0m\u001b[0;36m5\u001b[0m\u001b[0;34m,\u001b[0m\u001b[0;36m6\u001b[0m\u001b[0;34m,\u001b[0m\u001b[0;36m7\u001b[0m\u001b[0;34m,\u001b[0m\u001b[0;36m8\u001b[0m\u001b[0;34m,\u001b[0m\u001b[0;36m9\u001b[0m\u001b[0;34m,\u001b[0m\u001b[0;36m10\u001b[0m\u001b[0;34m)\u001b[0m\u001b[0;34m\u001b[0m\u001b[0;34m\u001b[0m\u001b[0m\n\u001b[0;32m----> 3\u001b[0;31m \u001b[0mtup1\u001b[0m\u001b[0;34m.\u001b[0m\u001b[0mappend\u001b[0m\u001b[0;34m(\u001b[0m\u001b[0;36m11\u001b[0m\u001b[0;34m)\u001b[0m\u001b[0;34m\u001b[0m\u001b[0;34m\u001b[0m\u001b[0m\n\u001b[0m",
            "\u001b[0;31mAttributeError\u001b[0m: 'tuple' object has no attribute 'append'"
          ]
        }
      ]
    },
    {
      "cell_type": "code",
      "source": [
        "tup1 = (1,2,3,4,5,6,7,8,9,10)\n",
        "try:\n",
        " tup1.append(11)\n",
        "except AttributeError as ae:\n",
        "  print('AttributeError Exception', ae)"
      ],
      "metadata": {
        "colab": {
          "base_uri": "https://localhost:8080/"
        },
        "id": "Kp2tWWi70bkj",
        "outputId": "0c34423f-d136-4cf7-d5a8-7fcf1204b45a"
      },
      "execution_count": 6,
      "outputs": [
        {
          "output_type": "stream",
          "name": "stdout",
          "text": [
            "AttributeError Exception 'tuple' object has no attribute 'append'\n"
          ]
        }
      ]
    },
    {
      "cell_type": "code",
      "source": [
        "a = 'python'\n",
        "b = 10\n",
        "c = 'programming'\n",
        "\n",
        "print(a+b+c)"
      ],
      "metadata": {
        "colab": {
          "base_uri": "https://localhost:8080/",
          "height": 210
        },
        "id": "dV6IdRZM1C5m",
        "outputId": "353f73fa-c81c-4965-849b-3bd0fd16a747"
      },
      "execution_count": 7,
      "outputs": [
        {
          "output_type": "error",
          "ename": "TypeError",
          "evalue": "ignored",
          "traceback": [
            "\u001b[0;31m---------------------------------------------------------------------------\u001b[0m",
            "\u001b[0;31mTypeError\u001b[0m                                 Traceback (most recent call last)",
            "\u001b[0;32m<ipython-input-7-1238f8412244>\u001b[0m in \u001b[0;36m<cell line: 5>\u001b[0;34m()\u001b[0m\n\u001b[1;32m      3\u001b[0m \u001b[0mc\u001b[0m \u001b[0;34m=\u001b[0m \u001b[0;34m'programming'\u001b[0m\u001b[0;34m\u001b[0m\u001b[0;34m\u001b[0m\u001b[0m\n\u001b[1;32m      4\u001b[0m \u001b[0;34m\u001b[0m\u001b[0m\n\u001b[0;32m----> 5\u001b[0;31m \u001b[0mprint\u001b[0m\u001b[0;34m(\u001b[0m\u001b[0ma\u001b[0m\u001b[0;34m+\u001b[0m\u001b[0mb\u001b[0m\u001b[0;34m+\u001b[0m\u001b[0mc\u001b[0m\u001b[0;34m)\u001b[0m\u001b[0;34m\u001b[0m\u001b[0;34m\u001b[0m\u001b[0m\n\u001b[0m",
            "\u001b[0;31mTypeError\u001b[0m: can only concatenate str (not \"int\") to str"
          ]
        }
      ]
    },
    {
      "cell_type": "code",
      "source": [
        "a = 'python'\n",
        "b = 10\n",
        "c = 'programming'\n",
        "try:\n",
        " print(a+b+c)\n",
        "except TypeError as te:\n",
        "  print('TypeError Exception', te)"
      ],
      "metadata": {
        "colab": {
          "base_uri": "https://localhost:8080/"
        },
        "id": "_cKk0kLJ1WIR",
        "outputId": "84f9dbb9-ad3d-49e9-ee7d-a69a20a4757a"
      },
      "execution_count": 8,
      "outputs": [
        {
          "output_type": "stream",
          "name": "stdout",
          "text": [
            "TypeError Exception can only concatenate str (not \"int\") to str\n"
          ]
        }
      ]
    },
    {
      "cell_type": "code",
      "source": [
        "for i in range(10):\n",
        "print(i)"
      ],
      "metadata": {
        "colab": {
          "base_uri": "https://localhost:8080/",
          "height": 141
        },
        "id": "Yw-PICzZ2eGg",
        "outputId": "b115dcff-1a22-4c60-8acf-a508c8e327d5"
      },
      "execution_count": 9,
      "outputs": [
        {
          "output_type": "error",
          "ename": "IndentationError",
          "evalue": "ignored",
          "traceback": [
            "\u001b[0;36m  File \u001b[0;32m\"<ipython-input-9-0c8aafc23d7e>\"\u001b[0;36m, line \u001b[0;32m2\u001b[0m\n\u001b[0;31m    print(i)\u001b[0m\n\u001b[0m    ^\u001b[0m\n\u001b[0;31mIndentationError\u001b[0m\u001b[0;31m:\u001b[0m expected an indented block after 'for' statement on line 1\n"
          ]
        }
      ]
    },
    {
      "cell_type": "code",
      "source": [
        "try IndentationError as ie:\n",
        "  for i in range(10):\n",
        "    print(i)\n",
        "  except IndentationError as ie:\n",
        "    print('IndentationError', ie)"
      ],
      "metadata": {
        "colab": {
          "base_uri": "https://localhost:8080/",
          "height": 141
        },
        "id": "zuFHmXsJ2oht",
        "outputId": "0a19cc73-64d0-4acd-d9db-184d060fe41d"
      },
      "execution_count": 10,
      "outputs": [
        {
          "output_type": "error",
          "ename": "SyntaxError",
          "evalue": "ignored",
          "traceback": [
            "\u001b[0;36m  File \u001b[0;32m\"<ipython-input-10-b7fcecac19b1>\"\u001b[0;36m, line \u001b[0;32m1\u001b[0m\n\u001b[0;31m    try IndentationError as ie:\u001b[0m\n\u001b[0m        ^\u001b[0m\n\u001b[0;31mSyntaxError\u001b[0m\u001b[0;31m:\u001b[0m expected ':'\n"
          ]
        }
      ]
    }
  ]
}