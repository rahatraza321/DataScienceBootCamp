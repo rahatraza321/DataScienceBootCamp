{
  "nbformat": 4,
  "nbformat_minor": 0,
  "metadata": {
    "colab": {
      "provenance": []
    },
    "kernelspec": {
      "name": "python3",
      "display_name": "Python 3"
    },
    "language_info": {
      "name": "python"
    }
  },
  "cells": [
    {
      "cell_type": "code",
      "execution_count": 2,
      "metadata": {
        "colab": {
          "base_uri": "https://localhost:8080/"
        },
        "id": "m1bUk1hfR_Le",
        "outputId": "0726e519-6584-47c8-81a1-1e81bba1a786"
      },
      "outputs": [
        {
          "output_type": "stream",
          "name": "stdout",
          "text": [
            "HloWrd\n",
            "Hello world\n",
            "hello world\n",
            "***Hello World***\n",
            "Hello World\n",
            "1\n",
            "morning world how is it going? hello all good\n",
            "0\n",
            "0\n",
            "rni\n",
            "orn\n",
            "False\n",
            "True\n",
            "True\n",
            "12\n",
            "-1\n",
            "22\n",
            "HeLLO my name is raza, I am a Data Scientist!\n",
            "HeLLO my name is raza, I am a Data Scientist!\n",
            "6\n",
            "False\n",
            "True\n",
            "True\n",
            "False\n",
            "True\n",
            "False\n",
            "False\n",
            "True\n",
            "True\n",
            "True\n",
            "False\n",
            "True\n",
            "False\n",
            "False\n"
          ]
        }
      ],
      "source": [
        "temp_str1=\"Hello World\"\n",
        "print(temp_str1[::2])\n",
        "#string slicing [start:stop:step]\n",
        "\n",
        "#dir(temp_str)\n",
        "\n",
        "temp_str2=\"hello world\"\n",
        "print(temp_str2.capitalize())\n",
        "\n",
        "temp_str3=\"HELLO WORLD\"\n",
        "print(temp_str3.casefold())\n",
        "\n",
        "#Increse Length of string by adding whatever character is mentioned if not by defult fills by space\n",
        "\n",
        "\n",
        "temp_str4=\"Hello World\"\n",
        "print(temp_str4.center(17,\"*\"))\n",
        "print(temp_str4.center(11,\"*\"))\n",
        "\n",
        "#Returns how many times the substring appears in the given range by defult picks full string\n",
        "\n",
        "temp_str5=\"Morning World how is it going? Hello all good\"\n",
        "print(temp_str5.count(\"Morning\"))\n",
        "\n",
        "temp_str5=\"Morning World how is it going? Hello all good\".casefold()\n",
        "print(temp_str5)\n",
        "print(temp_str5.count(\"Morning\"))\n",
        "print(temp_str5.count(\" Morning\",2))\n",
        "print(temp_str5[2:5])\n",
        "print(temp_str5[1:4])\n",
        "\n",
        "#returns True and False on the basis of suffix passed.\n",
        "temp_str6=\"HeLLo world\"\n",
        "print(temp_str6.endswith(\"|\"))\n",
        "\n",
        "temp_str=\"HeLLo World how isit going?Hello all good!\"\n",
        "print(temp_str.endswith(\"d!\"))\n",
        "print(temp_str.endswith(\"good\",0,len(temp_str)-1))\n",
        "\n",
        "#return lowest index of the substring if found else return -1\n",
        "\n",
        "temp_str7=\"HeLLO World how is it going? Hello all good! how are you!\"\n",
        "print(temp_str7.find(\"how\"))\n",
        "print(temp_str7.find(\"hownowget\"))\n",
        "print(temp_str7.find(\"going\"))\n",
        "\n",
        "temp_str8=\"HeLLO my name is {fname}, I am a {position}!\"\n",
        "print(temp_str8.format(fname=\"raza\",position=\"Data Scientist\"))\n",
        "\n",
        "temp_str8=\"HeLLO my name is {0}, I am a {1}!\"\n",
        "print(temp_str8.format(\"raza\",\"Data Scientist\"))\n",
        "\n",
        "#Function\n",
        "#1. format map\n",
        "#2. expandtabs\n",
        "\n",
        "#replica of find function but this return error if nothing found\n",
        "temp_str9=\"HeLLO World how is it going? Hello all good! how are you!\"\n",
        "print(temp_str9.index(\"World\"))\n",
        "##print(temp_str9.index(\"exact\"))\n",
        "\n",
        "temp_str11=\"HeLLO World how is it going? Hello all good! how are you!\"\n",
        "temp_str12=\"HelloWORLD\"\n",
        "print(temp_str11.isalnum())\n",
        "print(temp_str12.isalnum())\n",
        "\n",
        "#return True if only alphabets are present else return False\n",
        "\n",
        "temp_str13=\"HeLLoWorld\"\n",
        "temp_str14=\"Hello World\"\n",
        "temp_str15=\"HelloWORLD123412\"\n",
        "print(temp_str13.isalnum())\n",
        "print(temp_str14.isalnum())\n",
        "print(temp_str15.isalnum())\n",
        "\n",
        "#return trueif only numbers between 0-9else return False\n",
        "\n",
        "temp_str16=\"HeLLoWorld\"\n",
        "print(temp_str16.isdecimal())\n",
        "temp_str17=\"12345.1234\"\n",
        "print(temp_str17.isdecimal())\n",
        "temp_str18=\"123451234\"\n",
        "print(temp_str18.isdecimal())\n",
        "\n",
        "unicode_0=\"\\u0030\"\n",
        "print(unicode_0.isdecimal())\n",
        "\n",
        "temp_str19=\"123451234\"\n",
        "temp_str20=\"HeLLoWorld\"\n",
        "unicode_0=\"\\u0030\"\n",
        "print(temp_str19.isdigit())\n",
        "print(temp_str20.isdigit())\n",
        "print(unicode_0.isdigit())\n",
        "\n",
        "#return trueif only numbers between 0-9else return False\n",
        "temp_str=\"\\u0082\"\n",
        "print(temp_str.isdecimal())\n",
        "print(temp_str.isdigit())\n",
        "\n",
        "\n",
        "\n",
        "\n",
        "\n",
        "\n",
        "\n",
        "\n",
        "\n",
        "\n",
        "\n",
        "\n"
      ]
    },
    {
      "cell_type": "code",
      "source": [
        "#returns True if the word is keyword in python else return False(identifier will be single word)\n",
        "temp_str=\"Hello World\"\n",
        "print(temp_str.isidentifier())\n",
        "temp_str2=\"if\"\n",
        "print(temp_str2.isidentifier())\n",
        "temp_str2=\"aabbcc\"\n",
        "print(temp_str2.isidentifier())\n",
        "temp_str2=\"11aabbccdd\"\n",
        "print(temp_str2.isidentifier())\n",
        "temp_str2=\"aabbccdd321334455\"\n",
        "print(temp_str2.isidentifier())"
      ],
      "metadata": {
        "colab": {
          "base_uri": "https://localhost:8080/"
        },
        "id": "mZO1wmyMahCr",
        "outputId": "f3aff2d3-5dfe-4667-d849-4185d548a07f"
      },
      "execution_count": 11,
      "outputs": [
        {
          "output_type": "stream",
          "name": "stdout",
          "text": [
            "True\n",
            "True\n",
            "True\n",
            "False\n",
            "True\n"
          ]
        }
      ]
    },
    {
      "cell_type": "code",
      "source": [
        "temp_str=\"Hello World\"\n",
        "temp_str3=\"hello world@@@@@123!!!\"\n",
        "print(temp_str.islower())\n",
        "print(temp_str3.islower())"
      ],
      "metadata": {
        "colab": {
          "base_uri": "https://localhost:8080/"
        },
        "id": "eyU2UdvDbte2",
        "outputId": "e6e21e70-96a8-41dc-c99c-2502272604d1"
      },
      "execution_count": 9,
      "outputs": [
        {
          "output_type": "stream",
          "name": "stdout",
          "text": [
            "False\n",
            "True\n"
          ]
        }
      ]
    },
    {
      "cell_type": "code",
      "source": [
        "temp_str4=\"Hello WORLD\"\n",
        "print(temp_str4.isspace())\n",
        "temp_str4= \" \"\n",
        "print(temp_str4.isspace())\n"
      ],
      "metadata": {
        "colab": {
          "base_uri": "https://localhost:8080/"
        },
        "id": "OGaMZX2sb4Re",
        "outputId": "1da28a25-c37d-4d19-fa45-4214f74df9ac"
      },
      "execution_count": 13,
      "outputs": [
        {
          "output_type": "stream",
          "name": "stdout",
          "text": [
            "False\n",
            "True\n"
          ]
        }
      ]
    },
    {
      "cell_type": "code",
      "source": [
        "temp_str5=\"Hello WORLD\"\n",
        "print(temp_str5.istitle())\n",
        "temp_str5=\"Hello World\"\n",
        "print(temp_str5.istitle())"
      ],
      "metadata": {
        "colab": {
          "base_uri": "https://localhost:8080/"
        },
        "id": "ciDyyHiVdw9T",
        "outputId": "93ec1c50-2dae-491b-ae23-c648f33c9630"
      },
      "execution_count": 23,
      "outputs": [
        {
          "output_type": "stream",
          "name": "stdout",
          "text": [
            "False\n",
            "True\n"
          ]
        }
      ]
    },
    {
      "cell_type": "code",
      "source": [
        "temp_str6=\"Hello WOrld\"\n",
        "print(temp_str6.isupper())\n",
        "temp_str6=\"HELLO WORLDDDD12345434#####!!!111\"\n",
        "print(temp_str6.isupper())\n",
        "\n"
      ],
      "metadata": {
        "colab": {
          "base_uri": "https://localhost:8080/"
        },
        "id": "kSnPJjUwfGru",
        "outputId": "6b8cbff1-1f77-45f6-ea42-cb146aa0b566"
      },
      "execution_count": 26,
      "outputs": [
        {
          "output_type": "stream",
          "name": "stdout",
          "text": [
            "False\n",
            "True\n"
          ]
        }
      ]
    },
    {
      "cell_type": "code",
      "source": [
        "#Iterable are list, tuple\n",
        "list_temp=[\"Hello World 2023!!\",\"How\", \"are\",\"you?\"]\n",
        "print(\" \".join(list_temp))\n",
        "\n",
        "list_temp=(\"Hello World 2023!!\",\"How\", \"are\",\"you?\")\n",
        "print(\" \".join(list_temp))"
      ],
      "metadata": {
        "colab": {
          "base_uri": "https://localhost:8080/"
        },
        "id": "T7ibPFe1fthy",
        "outputId": "3722ca2d-b8f9-4bd7-a818-1fd2b37d26b2"
      },
      "execution_count": 35,
      "outputs": [
        {
          "output_type": "stream",
          "name": "stdout",
          "text": [
            "Hello World 2023!! How are you?\n",
            "Hello World 2023!! How are you?\n"
          ]
        }
      ]
    },
    {
      "cell_type": "code",
      "source": [
        "temp_str6=\"Hello WOrld\"\n",
        "print(temp_str6.lower())\n",
        "string_german='B'\n",
        "print(string_german.lower())\n",
        "print(string_german.casefold())"
      ],
      "metadata": {
        "colab": {
          "base_uri": "https://localhost:8080/"
        },
        "id": "1yrKLCh1hbVv",
        "outputId": "1d8dcad8-f990-4131-bb0f-1667121ea9dc"
      },
      "execution_count": 38,
      "outputs": [
        {
          "output_type": "stream",
          "name": "stdout",
          "text": [
            "hello world\n",
            "b\n",
            "b\n"
          ]
        }
      ]
    },
    {
      "cell_type": "code",
      "source": [
        "temp_str7=\"Hello WOrld\"\n",
        "print(temp_str7.lstrip())\n",
        "temp_str7=\"    Hello WOrld\"\n",
        "print(temp_str7.lstrip())"
      ],
      "metadata": {
        "colab": {
          "base_uri": "https://localhost:8080/"
        },
        "id": "nyc8aHxDiOeE",
        "outputId": "085cb612-2030-442e-a6b6-13b82989e46f"
      },
      "execution_count": 48,
      "outputs": [
        {
          "output_type": "stream",
          "name": "stdout",
          "text": [
            "Hello WOrld\n",
            "Hello WOrld\n"
          ]
        }
      ]
    },
    {
      "cell_type": "code",
      "source": [
        "temp_str8=\"Hello WOrld! i could eat apple all day\"\n",
        "print(temp_str8.partition(\"apple\"))\n",
        "print(temp_str8.partition(\"apples121212\"))"
      ],
      "metadata": {
        "colab": {
          "base_uri": "https://localhost:8080/"
        },
        "id": "9-wFnyKIjELw",
        "outputId": "5050e191-c8ad-4f99-8437-3a4ea288c91e"
      },
      "execution_count": 49,
      "outputs": [
        {
          "output_type": "stream",
          "name": "stdout",
          "text": [
            "('Hello WOrld! i could eat ', 'apple', ' all day')\n",
            "('Hello WOrld! i could eat apple all day', '', '')\n"
          ]
        }
      ]
    },
    {
      "cell_type": "code",
      "source": [
        "temp_str9=\"Hello WOrld! i could eat apple all day.\"\n",
        "print(temp_str9.replace('all', 'not'))\n",
        "print(temp_str9.replace('all', '##').replace('apple','mangoes'))"
      ],
      "metadata": {
        "colab": {
          "base_uri": "https://localhost:8080/"
        },
        "id": "iqSZBCmpkDT-",
        "outputId": "a5d201c6-c5dc-42a2-c305-b8691dd5d8e1"
      },
      "execution_count": 57,
      "outputs": [
        {
          "output_type": "stream",
          "name": "stdout",
          "text": [
            "Hello WOrld! i could eat apple not day.\n",
            "Hello WOrld! i could eat mangoes ## day.\n"
          ]
        }
      ]
    },
    {
      "cell_type": "code",
      "source": [
        "#remove white space on the right side\n",
        "temp_str10=\"      Hello WOrld    \"\n",
        "temp_str10.rstrip()"
      ],
      "metadata": {
        "colab": {
          "base_uri": "https://localhost:8080/",
          "height": 35
        },
        "id": "6WeyRS5almqD",
        "outputId": "a9ab37a0-23d4-475f-910e-faf140926850"
      },
      "execution_count": 58,
      "outputs": [
        {
          "output_type": "execute_result",
          "data": {
            "text/plain": [
              "'      Hello WOrld'"
            ],
            "application/vnd.google.colaboratory.intrinsic+json": {
              "type": "string"
            }
          },
          "metadata": {},
          "execution_count": 58
        }
      ]
    },
    {
      "cell_type": "code",
      "source": [
        "temp_str11=\"Hello WOrld! i could eat apple all day, thats all i can say\"\n",
        "print(temp_str11.split(\",\"))\n",
        "print(temp_str11.split(\"all\"))\n",
        "print(temp_str11.split(\",\")[0].split(\"#\"))\n"
      ],
      "metadata": {
        "colab": {
          "base_uri": "https://localhost:8080/"
        },
        "id": "kEK3L59Nl3YH",
        "outputId": "9839c2ec-9531-4841-f1b3-43a72866acd3"
      },
      "execution_count": 97,
      "outputs": [
        {
          "output_type": "stream",
          "name": "stdout",
          "text": [
            "['Hello WOrld! i could eat apple all day', ' thats all i can say']\n",
            "['Hello WOrld! i could eat apple ', ' day, thats ', ' i can say']\n",
            "['Hello WOrld! i could eat apple all day']\n"
          ]
        }
      ]
    },
    {
      "cell_type": "code",
      "source": [
        "temp_str12=\"i could eat apple all day, thats all i can say\"\n",
        "print(temp_str12.startswith(\"i\"))\n",
        "print(temp_str12.startswith(\"could\"))\n",
        "print(temp_str12.startswith(\"could\",2))"
      ],
      "metadata": {
        "colab": {
          "base_uri": "https://localhost:8080/"
        },
        "id": "Px8yADnmm28V",
        "outputId": "bae138f4-faed-43cc-c8e9-6a72d3fa17b3"
      },
      "execution_count": 69,
      "outputs": [
        {
          "output_type": "stream",
          "name": "stdout",
          "text": [
            "True\n",
            "False\n",
            "True\n"
          ]
        }
      ]
    },
    {
      "cell_type": "code",
      "source": [
        "temp_str=\"            Hello World                               \"\n",
        "temp_str.strip()"
      ],
      "metadata": {
        "colab": {
          "base_uri": "https://localhost:8080/",
          "height": 35
        },
        "id": "ygJS4kBJnbT4",
        "outputId": "c3b22ddf-6dbe-41cc-b661-8bd144842aaf"
      },
      "execution_count": 70,
      "outputs": [
        {
          "output_type": "execute_result",
          "data": {
            "text/plain": [
              "'Hello World'"
            ],
            "application/vnd.google.colaboratory.intrinsic+json": {
              "type": "string"
            }
          },
          "metadata": {},
          "execution_count": 70
        }
      ]
    },
    {
      "cell_type": "code",
      "source": [
        "temp_str=\"i could eat apple all day, thats all i can say\"\n",
        "print(temp_str.swapcase())\n",
        "print(temp_str.swapcase())\n",
        "print(temp_str.capitalize())"
      ],
      "metadata": {
        "colab": {
          "base_uri": "https://localhost:8080/"
        },
        "id": "8iChzodPnopE",
        "outputId": "4a15380f-e324-4337-ee5d-2f3e278a7e27"
      },
      "execution_count": 76,
      "outputs": [
        {
          "output_type": "stream",
          "name": "stdout",
          "text": [
            "I COULD EAT APPLE ALL DAY, THATS ALL I CAN SAY\n",
            "I COULD EAT APPLE ALL DAY, THATS ALL I CAN SAY\n",
            "I could eat apple all day, thats all i can say\n"
          ]
        }
      ]
    },
    {
      "cell_type": "code",
      "source": [
        "temp_str15=\"i could eat apple all day, thats all i can say\"\n",
        "temp_str15.title()"
      ],
      "metadata": {
        "colab": {
          "base_uri": "https://localhost:8080/",
          "height": 35
        },
        "id": "EyrLtuvjn5Qq",
        "outputId": "661bc1f9-f3bb-49cf-a6cc-6a924e32437a"
      },
      "execution_count": 73,
      "outputs": [
        {
          "output_type": "execute_result",
          "data": {
            "text/plain": [
              "'I Could Eat Apple All Day, Thats All I Can Say'"
            ],
            "application/vnd.google.colaboratory.intrinsic+json": {
              "type": "string"
            }
          },
          "metadata": {},
          "execution_count": 73
        }
      ]
    },
    {
      "cell_type": "code",
      "source": [
        "#using  dict\n",
        "temp_str16={93:80,83:80,73:80}\n",
        "print(temp_str16)\n",
        "temp_str16={83:80,83:70,83:20}\n",
        "print(temp_str16)\n"
      ],
      "metadata": {
        "colab": {
          "base_uri": "https://localhost:8080/"
        },
        "id": "sdbHC3K2o0Qa",
        "outputId": "c059e042-17bc-4864-dcd4-b518820c50c4"
      },
      "execution_count": 81,
      "outputs": [
        {
          "output_type": "stream",
          "name": "stdout",
          "text": [
            "{93: 80, 83: 80, 73: 80}\n",
            "{83: 20}\n"
          ]
        }
      ]
    },
    {
      "cell_type": "code",
      "source": [
        "temp_str={\"brand\":\"Ford\",\"model\":\"mustang\",\"year\":1964,\"year\":2020}\n",
        "print(temp_str)"
      ],
      "metadata": {
        "colab": {
          "base_uri": "https://localhost:8080/"
        },
        "id": "EOyUr-1Jp3Cs",
        "outputId": "4ab821bc-0f98-4919-e837-23dc68edae5c"
      },
      "execution_count": 82,
      "outputs": [
        {
          "output_type": "stream",
          "name": "stdout",
          "text": [
            "{'brand': 'Ford', 'model': 'mustang', 'year': 2020}\n"
          ]
        }
      ]
    },
    {
      "cell_type": "code",
      "source": [
        "thisdict=dict(name=\"raza\",age=34,country=\"usa\")\n",
        "print(thisdict)\n",
        "\n"
      ],
      "metadata": {
        "colab": {
          "base_uri": "https://localhost:8080/"
        },
        "id": "Z3kkqmTzqlQ6",
        "outputId": "966184a0-fb5e-4c39-fbc1-4c0410c48e29"
      },
      "execution_count": 85,
      "outputs": [
        {
          "output_type": "stream",
          "name": "stdout",
          "text": [
            "{'name': 'raza', 'age': 34, 'country': 'usa'}\n"
          ]
        }
      ]
    },
    {
      "cell_type": "code",
      "source": [
        "#assci Code value of S is 83 defaulty we replace it with 80 here which is P\n",
        "temp_dict={83:80,72:77}\n",
        "temp_str=\"Hello Sam!\"\n",
        "print(temp_str.translate(temp_dict))"
      ],
      "metadata": {
        "colab": {
          "base_uri": "https://localhost:8080/"
        },
        "id": "Q4bQMBgQrp8o",
        "outputId": "bbfd1153-c798-4263-9234-367f1f315d19"
      },
      "execution_count": 89,
      "outputs": [
        {
          "output_type": "stream",
          "name": "stdout",
          "text": [
            "Mello Pam!\n"
          ]
        }
      ]
    },
    {
      "cell_type": "code",
      "source": [
        "temp_str15=\"i could eat apple all day, thats all i can say\"\n",
        "temp_str15.upper()"
      ],
      "metadata": {
        "colab": {
          "base_uri": "https://localhost:8080/",
          "height": 35
        },
        "id": "IVih1JAnshUe",
        "outputId": "0c611486-1cfa-4dc8-dddf-2f4b4a4559ec"
      },
      "execution_count": 91,
      "outputs": [
        {
          "output_type": "execute_result",
          "data": {
            "text/plain": [
              "'I COULD EAT APPLE ALL DAY, THATS ALL I CAN SAY'"
            ],
            "application/vnd.google.colaboratory.intrinsic+json": {
              "type": "string"
            }
          },
          "metadata": {},
          "execution_count": 91
        }
      ]
    },
    {
      "cell_type": "code",
      "source": [
        "temp_str15=\"i could eat apple all day, thats all i can say\"\n",
        "print(len(temp_str15))\n",
        "print(temp_str15.zfill(10))\n",
        "print(temp_str15.zfill(50))\n",
        "print(temp_str15.zfill(60))"
      ],
      "metadata": {
        "colab": {
          "base_uri": "https://localhost:8080/"
        },
        "id": "vsfsn3J2uJNY",
        "outputId": "4c91189f-9729-413f-c62b-927c8efeadde"
      },
      "execution_count": 94,
      "outputs": [
        {
          "output_type": "stream",
          "name": "stdout",
          "text": [
            "46\n",
            "i could eat apple all day, thats all i can say\n",
            "0000i could eat apple all day, thats all i can say\n",
            "00000000000000i could eat apple all day, thats all i can say\n"
          ]
        }
      ]
    }
  ]
}