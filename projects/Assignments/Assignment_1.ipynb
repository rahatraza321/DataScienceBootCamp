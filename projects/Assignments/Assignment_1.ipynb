{
  "nbformat": 4,
  "nbformat_minor": 0,
  "metadata": {
    "colab": {
      "provenance": []
    },
    "kernelspec": {
      "name": "python3",
      "display_name": "Python 3"
    },
    "language_info": {
      "name": "python"
    }
  },
  "cells": [
    {
      "cell_type": "code",
      "execution_count": 54,
      "metadata": {
        "colab": {
          "base_uri": "https://localhost:8080/"
        },
        "id": "pT5QjLEpEIoO",
        "outputId": "e679cf86-edbb-4000-ec9d-19febbeb2b48"
      },
      "outputs": [
        {
          "output_type": "stream",
          "name": "stdout",
          "text": [
            "Enter marks: 79\n",
            "B\n"
          ]
        }
      ],
      "source": [
        "# 5.\n",
        "marks = float(input(\"Enter marks: \"))\n",
        "if marks < 25:\n",
        "  print(\"F\")\n",
        "elif marks >= 25 and marks < 45:\n",
        "  print(\"E\")\n",
        "elif marks >= 45 and marks < 50:\n",
        "  print(\"D\")\n",
        "elif marks >= 50 and marks < 60:\n",
        "  print(\"C\")\n",
        "elif marks >= 60 and marks <80:\n",
        "  print(\"B\")\n",
        "else:\n",
        "  print(\"A\")\n",
        "\n",
        "\n"
      ]
    },
    {
      "cell_type": "code",
      "source": [
        "# 6.Take input of age of 3 people byuser and determine oldest and youngest among them.\n",
        "age1 = int(input(\"Enter age person 1: \"))\n",
        "age2 = int(input(\"Enter age person 2: \"))\n",
        "age3 = int(input(\"Enter age person 3: \"))\n",
        "#print()\n",
        "if (age1 > age2) and (age1 > age3):\n",
        "    print(\"person 1 is the oldest.\")\n",
        "    if age2 < age3:\n",
        "      print(\"person 2 is the younget.\")\n",
        "    else:\n",
        "      print(\"person 3 is the youngest\")\n",
        "elif (age2 > age1) and (age2 > age3):\n",
        "    print(\"person 2 is the oldest.\")\n",
        "    if (age1 < age3):\n",
        "      print(\"person 1 is the youngest.\")\n",
        "    else:\n",
        "      print(\"person 3 is the youngest.\")\n",
        "elif (age3 > age1) and (age3 > age2):\n",
        "  print(\"person 3 is the oldest.\")\n",
        "  if (age1 < age2):\n",
        "    print(\"person 1 is the youngest.\")\n",
        "  else:\n",
        "    print(\"person 2 is the youngest.\")\n",
        "else:\n",
        "  print(\"All have same age\")\n",
        "\n",
        "\n",
        "\n"
      ],
      "metadata": {
        "colab": {
          "base_uri": "https://localhost:8080/"
        },
        "id": "m2O8UtgGPoTI",
        "outputId": "5636126a-3c7e-4fcd-a94d-12eb469ebe38"
      },
      "execution_count": 60,
      "outputs": [
        {
          "output_type": "stream",
          "name": "stdout",
          "text": [
            "Enter age person 1: 30\n",
            "Enter age person 2: 29\n",
            "Enter age person 3: 35\n",
            "person 3 is the oldest.\n",
            "person 2 is the youngest.\n"
          ]
        }
      ]
    },
    {
      "cell_type": "code",
      "source": [
        "# 1.A company decided to give bonus of 5% to employee if his/her year of serivce is more than 5 years. Ask users for their salary and year of service and printthe nete bonus amount.\n",
        "\n",
        "a = float(input(\"what is your salary? \"))\n",
        "b = float(input(\"years of service: \"))\n",
        "c = a * 0.05\n",
        "\n",
        "if b > 5:\n",
        "  print (\"bonus: \", c)\n",
        "else:\n",
        "  print (\"no bonus\")\n"
      ],
      "metadata": {
        "colab": {
          "base_uri": "https://localhost:8080/"
        },
        "id": "agV2MppaF9Dz",
        "outputId": "8f49d226-5094-459e-b697-9276483cda8b"
      },
      "execution_count": 36,
      "outputs": [
        {
          "output_type": "stream",
          "name": "stdout",
          "text": [
            "what is your salary? 99000\n",
            "years of service: 9\n",
            "bonus:  4950.0\n"
          ]
        }
      ]
    },
    {
      "cell_type": "code",
      "source": [
        "# 3. Take two int values from user and print greatest among them.\n",
        "a = int(\"30\")\n",
        "b = int(\"35\")\n",
        "print(input(\"a\"))\n",
        "print(input(\"b\"))\n",
        "if a > b:\n",
        "  print(\"Greatest value is\", a)\n",
        "elif b > a:\n",
        "  print(\"Greater value is\", b)\n",
        "else:\n",
        "  print(\"both are equal\")\n"
      ],
      "metadata": {
        "colab": {
          "base_uri": "https://localhost:8080/"
        },
        "id": "SlxknwohYrYK",
        "outputId": "74a24989-ab9f-4aa3-96db-acb1e0b378f6"
      },
      "execution_count": 38,
      "outputs": [
        {
          "output_type": "stream",
          "name": "stdout",
          "text": [
            "a30\n",
            "30\n",
            "b35\n",
            "35\n",
            "Greater value is 35\n"
          ]
        }
      ]
    },
    {
      "cell_type": "code",
      "source": [
        "# 2. Take values of length and breadth of a rectangele from user and check if it is square or not.\n",
        "l = int(input(\"enter length:\"))\n",
        "b = int(input(\"enter breadth:\"))\n",
        "\n",
        "if l ==b:\n",
        "  print(\"It is square.\")\n",
        "else:\n",
        "  print(\"It is rectangle\")"
      ],
      "metadata": {
        "colab": {
          "base_uri": "https://localhost:8080/"
        },
        "id": "vwhGXEt5dGSG",
        "outputId": "2c1f9c7d-2259-4f99-b920-404bf4fe2df0"
      },
      "execution_count": 37,
      "outputs": [
        {
          "output_type": "stream",
          "name": "stdout",
          "text": [
            "enter length:35\n",
            "enter breadth:45\n",
            "It is rectangle\n"
          ]
        }
      ]
    },
    {
      "cell_type": "code",
      "source": [
        "#4. A shop will give discount of 10% if the cost of purchased quantity is more than 1000.Ask user for quantity suppose, one unit will cost 100 amd judge - print total cost for user.\n",
        "q = float(input(\"enter the quantity \"))\n",
        "cost = q*100\n",
        "disc = 0.10 * cost\n",
        "if cost > 1000:\n",
        "  print(\"Total cost is\", (cost-disc))\n",
        "else:\n",
        "  print(\"Total cost is\", cost)\n",
        "\n"
      ],
      "metadata": {
        "colab": {
          "base_uri": "https://localhost:8080/"
        },
        "id": "wC92dbAJh-wg",
        "outputId": "8de8e191-e0f9-4578-8530-ddbbb9cce334"
      },
      "execution_count": 95,
      "outputs": [
        {
          "output_type": "stream",
          "name": "stdout",
          "text": [
            "enter the quantity 19\n",
            "Total cost is 1710.0\n"
          ]
        }
      ]
    },
    {
      "cell_type": "code",
      "source": [
        "# 7.\n",
        "a = float(input(\"enter a number:\"))\n",
        "if a < 0:\n",
        "  print(a*-1)\n",
        "else:\n",
        " print (a)\n",
        "\n",
        "n1 = float(input(\"Input:\"))\n",
        "n2 = n1 * -1\n",
        "if n1 < 0:\n",
        "  print(\"Absolute value is\", n2)\n",
        "else:\n",
        "  print(n1)"
      ],
      "metadata": {
        "colab": {
          "base_uri": "https://localhost:8080/"
        },
        "id": "dKw0xL6o0m4B",
        "outputId": "b392a9b7-f0d3-4dd4-ff03-616546a187c0"
      },
      "execution_count": 97,
      "outputs": [
        {
          "output_type": "stream",
          "name": "stdout",
          "text": [
            "enter a number:99\n",
            "99.0\n",
            "Input:-99\n",
            "Absolute value is 99.0\n"
          ]
        }
      ]
    },
    {
      "cell_type": "code",
      "source": [
        "# 8.\n",
        "a = float(input(\"number of class held:\"))\n",
        "b = float(input(\"number of class attend:\"))\n",
        "c = (b/a)*100\n",
        "print(\"attendance is\", c)\n",
        "if c >= 75:\n",
        "  print(\"you are allowed to sit in exam.\")\n",
        "else:\n",
        "  print(\"you are not to sit in exam.\")"
      ],
      "metadata": {
        "colab": {
          "base_uri": "https://localhost:8080/"
        },
        "id": "6owE46VfBZ0q",
        "outputId": "560aa9f3-ecd2-47e0-fc2f-8c70bc4d2b81"
      },
      "execution_count": 99,
      "outputs": [
        {
          "output_type": "stream",
          "name": "stdout",
          "text": [
            "number of class held:50\n",
            "number of class attend:40\n",
            "attendance is 80.0\n",
            "you are allowed to sit in exam.\n"
          ]
        }
      ]
    },
    {
      "cell_type": "code",
      "source": [
        "# 9.\n",
        "a=int(input(\"number of class held:\"))\n",
        "b=int(input(\"number of class attend:\"))\n",
        "medical_cause = input(\"medical_cause:\").title()\n",
        "c=(b/a)*100\n",
        "if medical_cause == (\"Y\"):\n",
        "  print(\"you are allowed to sit in exam.\")\n",
        "else:\n",
        "  if c>= 75:\n",
        "   print(\"you are not to sit in exam.\")\n",
        "  else:\n",
        "    print(\"Not allowed in exam.\")\n",
        "\n",
        "\n"
      ],
      "metadata": {
        "colab": {
          "base_uri": "https://localhost:8080/"
        },
        "id": "xLzzN_ugDcnO",
        "outputId": "b6b04e5f-5127-4a87-9bd5-4cd4c5bcc2d9"
      },
      "execution_count": 110,
      "outputs": [
        {
          "output_type": "stream",
          "name": "stdout",
          "text": [
            "number of class held:50\n",
            "number of class attend:34\n",
            "medical_cause:y\n",
            "you are allowed to sit in exam.\n"
          ]
        }
      ]
    }
  ]
}