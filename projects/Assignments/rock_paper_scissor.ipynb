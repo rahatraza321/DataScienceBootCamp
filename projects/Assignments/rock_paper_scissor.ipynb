{
  "nbformat": 4,
  "nbformat_minor": 0,
  "metadata": {
    "colab": {
      "provenance": []
    },
    "kernelspec": {
      "name": "python3",
      "display_name": "Python 3"
    },
    "language_info": {
      "name": "python"
    }
  },
  "cells": [
    {
      "cell_type": "code",
      "execution_count": 2,
      "metadata": {
        "colab": {
          "base_uri": "https://localhost:8080/"
        },
        "id": "uwUos-ZG5W6k",
        "outputId": "995946bf-2686-4ebc-f3c5-accecfaaf6a3"
      },
      "outputs": [
        {
          "output_type": "stream",
          "name": "stdout",
          "text": [
            "Please make a choice from rock, paper, scissors: rock\n",
            "Both players selected  rock . It's a tie.\n",
            "Please make a choice from rock, paper, scissors: paper\n",
            "congratulations!!You win. Paper covers rock.\n"
          ]
        }
      ],
      "source": [
        "while True:\n",
        "\n",
        "\n",
        "\n",
        "  user_input = input(\"Please make a choice from rock, paper, scissors: \").lower()\n",
        "\n",
        "\n",
        "\n",
        "  import random\n",
        "\n",
        "  possible_actions = [\"rock\", \"paper\", \"scissors\"]\n",
        "\n",
        "  computer_action = random.choice(possible_actions)\n",
        "\n",
        "  computer_action\n",
        "\n",
        "\n",
        "\n",
        "\n",
        "\n",
        "  if user_input==computer_action:\n",
        "\n",
        "   print(\"Both players selected \", user_input, \".\", \"It's a tie.\")\n",
        "\n",
        "  elif user_input == \"rock\":\n",
        "\n",
        "    if computer_action == \"paper\":\n",
        "\n",
        "      print(\"You have lost. Paper covers rock.\")\n",
        "\n",
        "    else:\n",
        "\n",
        "      print(\"congratulations!!You win. Rock smashes scissors.\")\n",
        "\n",
        "      break\n",
        "\n",
        "  elif user_input == \"scissors\":\n",
        "\n",
        "    if computer_action == \"paper\":\n",
        "\n",
        "      print(\"congratulations!!You win. Scissors cut paper.\")\n",
        "\n",
        "      break\n",
        "\n",
        "    else:\n",
        "\n",
        "      print(\"You have lost. Rock smashes scissors.\")\n",
        "\n",
        "  elif user_input == \"paper\":\n",
        "\n",
        "    if computer_action == \"scissors\":\n",
        "\n",
        "      print(\"You have lost. Scissors cut paper.\")\n",
        "\n",
        "    else:\n",
        "\n",
        "      print(\"congratulations!!You win. Paper covers rock.\")\n",
        "\n",
        "      break\n",
        "\n"
      ]
    }
  ]
}